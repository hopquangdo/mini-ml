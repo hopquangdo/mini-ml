{
 "cells": [
  {
   "cell_type": "code",
   "id": "initial_id",
   "metadata": {
    "collapsed": true,
    "ExecuteTime": {
     "end_time": "2025-07-13T03:37:20.864835Z",
     "start_time": "2025-07-13T03:37:19.631411Z"
    }
   },
   "source": [
    "from models.core.losses import MSELoss,BCELoss\n",
    "from models.neural.core import Dense, ReLU, Sigmoid, Tanh\n",
    "from models.neural import NeuralNetwork\n",
    "import numpy as np"
   ],
   "outputs": [],
   "execution_count": 1
  },
  {
   "metadata": {
    "ExecuteTime": {
     "end_time": "2025-07-13T03:37:57.293415Z",
     "start_time": "2025-07-13T03:37:56.950111Z"
    }
   },
   "cell_type": "code",
   "source": [
    "X = np.array([\n",
    "    [0, 0],\n",
    "    [0, 1],\n",
    "    [1, 0],\n",
    "    [1, 1]\n",
    "])\n",
    "\n",
    "y = np.array([\n",
    "    [0], [1], [1], [0]\n",
    "])\n",
    "\n",
    "model = NeuralNetwork(\n",
    "    layers=[\n",
    "        Dense(2, 8),\n",
    "        ReLU(),\n",
    "        Dense(8, 1),\n",
    "        Sigmoid()\n",
    "    ],\n",
    "    loss=BCELoss()\n",
    ")\n",
    "\n",
    "model.fit(X, y, epochs=5000, learning_rate=1)\n",
    "print(\"Predict:\", model.predict(X))"
   ],
   "id": "f9c5f2b050b07929",
   "outputs": [
    {
     "name": "stdout",
     "output_type": "stream",
     "text": [
      "Final Loss after 5000 epochs: 0.0003\n",
      "Predict: [[9.59531281e-04]\n",
      " [9.99915596e-01]\n",
      " [9.99923410e-01]\n",
      " [4.25666670e-05]]\n"
     ]
    }
   ],
   "execution_count": 4
  }
 ],
 "metadata": {
  "kernelspec": {
   "display_name": "Python 3",
   "language": "python",
   "name": "python3"
  },
  "language_info": {
   "codemirror_mode": {
    "name": "ipython",
    "version": 2
   },
   "file_extension": ".py",
   "mimetype": "text/x-python",
   "name": "python",
   "nbconvert_exporter": "python",
   "pygments_lexer": "ipython2",
   "version": "2.7.6"
  }
 },
 "nbformat": 4,
 "nbformat_minor": 5
}
