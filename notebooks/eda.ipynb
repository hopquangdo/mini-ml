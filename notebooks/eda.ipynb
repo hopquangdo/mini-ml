{
 "cells": [
  {
   "cell_type": "code",
   "id": "initial_id",
   "metadata": {
    "collapsed": true,
    "ExecuteTime": {
     "end_time": "2025-06-24T12:53:59.405327Z",
     "start_time": "2025-06-24T12:53:44.695406Z"
    }
   },
   "source": [
    "from sklearn.datasets import fetch_california_housing\n",
    "from sklearn.datasets import load_iris"
   ],
   "outputs": [],
   "execution_count": 1
  },
  {
   "metadata": {
    "ExecuteTime": {
     "end_time": "2025-06-24T08:41:38.941507Z",
     "start_time": "2025-06-24T08:41:38.907569Z"
    }
   },
   "cell_type": "code",
   "source": [
    "data  = fetch_california_housing(as_frame=True)\n",
    "df_housing = data.frame"
   ],
   "id": "9549bbba93bc1c62",
   "outputs": [],
   "execution_count": 2
  },
  {
   "metadata": {},
   "cell_type": "markdown",
   "source": [
    "## 📊 Mô tả các cột dữ liệu\n",
    "\n",
    "| Tên cột              | Giải thích |\n",
    "|----------------------|------------|\n",
    "| **MedInc**           | **Thu nhập trung vị** của cư dân trong khu vực (tính theo đơn vị: chục nghìn USD). Ví dụ: `8.3252` tương đương với khoảng `$83,252`. |\n",
    "| **HouseAge**         | **Tuổi trung bình của các căn nhà** trong khu vực (tính bằng năm). |\n",
    "| **AveRooms**         | **Số phòng trung bình** mỗi hộ dân trong khu vực. |\n",
    "| **AveBedrms**        | **Số phòng ngủ trung bình** mỗi hộ dân. |\n",
    "| **Population**       | **Tổng dân số** trong khu vực. |\n",
    "| **AveOccup**         | **Số người trung bình** sống trong một hộ. |\n",
    "| **Latitude**         | **Vĩ độ** của khu vực (tọa độ địa lý). |\n",
    "| **Longitude**        | **Kinh độ** của khu vực (tọa độ địa lý). |\n",
    "| **MedHouseVal**      | **Giá trị nhà trung vị** trong khu vực (tính theo đơn vị: trăm nghìn USD). |"
   ],
   "id": "a2d0e8dcb040b87e"
  },
  {
   "metadata": {
    "ExecuteTime": {
     "end_time": "2025-06-24T08:42:12.465081Z",
     "start_time": "2025-06-24T08:42:12.455477Z"
    }
   },
   "cell_type": "code",
   "source": [
    "print(\"First 5 rows of the dataset:\")\n",
    "print(df_housing.head())"
   ],
   "id": "4470578dbe78b7e5",
   "outputs": [
    {
     "name": "stdout",
     "output_type": "stream",
     "text": [
      "First 5 rows of the dataset:\n",
      "   MedInc  HouseAge  AveRooms  AveBedrms  Population  AveOccup  Latitude  \\\n",
      "0  8.3252      41.0  6.984127   1.023810       322.0  2.555556     37.88   \n",
      "1  8.3014      21.0  6.238137   0.971880      2401.0  2.109842     37.86   \n",
      "2  7.2574      52.0  8.288136   1.073446       496.0  2.802260     37.85   \n",
      "3  5.6431      52.0  5.817352   1.073059       558.0  2.547945     37.85   \n",
      "4  3.8462      52.0  6.281853   1.081081       565.0  2.181467     37.85   \n",
      "\n",
      "   Longitude  MedHouseVal  \n",
      "0    -122.23        4.526  \n",
      "1    -122.22        3.585  \n",
      "2    -122.24        3.521  \n",
      "3    -122.25        3.413  \n",
      "4    -122.25        3.422  \n"
     ]
    }
   ],
   "execution_count": 3
  },
  {
   "metadata": {
    "ExecuteTime": {
     "end_time": "2025-06-24T08:42:18.854190Z",
     "start_time": "2025-06-24T08:42:18.837712Z"
    }
   },
   "cell_type": "code",
   "source": [
    "print(\"\\nDataset Info:\")\n",
    "df_housing.info()"
   ],
   "id": "5fedda03693f6b3f",
   "outputs": [
    {
     "name": "stdout",
     "output_type": "stream",
     "text": [
      "\n",
      "Dataset Info:\n",
      "<class 'pandas.core.frame.DataFrame'>\n",
      "RangeIndex: 20640 entries, 0 to 20639\n",
      "Data columns (total 9 columns):\n",
      " #   Column       Non-Null Count  Dtype  \n",
      "---  ------       --------------  -----  \n",
      " 0   MedInc       20640 non-null  float64\n",
      " 1   HouseAge     20640 non-null  float64\n",
      " 2   AveRooms     20640 non-null  float64\n",
      " 3   AveBedrms    20640 non-null  float64\n",
      " 4   Population   20640 non-null  float64\n",
      " 5   AveOccup     20640 non-null  float64\n",
      " 6   Latitude     20640 non-null  float64\n",
      " 7   Longitude    20640 non-null  float64\n",
      " 8   MedHouseVal  20640 non-null  float64\n",
      "dtypes: float64(9)\n",
      "memory usage: 1.4 MB\n"
     ]
    }
   ],
   "execution_count": 4
  },
  {
   "metadata": {
    "ExecuteTime": {
     "end_time": "2025-06-24T13:03:39.867634Z",
     "start_time": "2025-06-24T13:03:39.860620Z"
    }
   },
   "cell_type": "code",
   "source": [
    "data  = load_iris(as_frame=True)\n",
    "df_iris = data.frame"
   ],
   "id": "f9db6cefb0513431",
   "outputs": [],
   "execution_count": 10
  },
  {
   "metadata": {
    "ExecuteTime": {
     "end_time": "2025-06-24T13:03:45.271669Z",
     "start_time": "2025-06-24T13:03:45.264144Z"
    }
   },
   "cell_type": "code",
   "source": "print(df_iris.head())",
   "id": "57cd2cf09e5a0273",
   "outputs": [
    {
     "name": "stdout",
     "output_type": "stream",
     "text": [
      "   sepal length (cm)  sepal width (cm)  petal length (cm)  petal width (cm)  \\\n",
      "0                5.1               3.5                1.4               0.2   \n",
      "1                4.9               3.0                1.4               0.2   \n",
      "2                4.7               3.2                1.3               0.2   \n",
      "3                4.6               3.1                1.5               0.2   \n",
      "4                5.0               3.6                1.4               0.2   \n",
      "\n",
      "   target  \n",
      "0       0  \n",
      "1       0  \n",
      "2       0  \n",
      "3       0  \n",
      "4       0  \n"
     ]
    }
   ],
   "execution_count": 12
  },
  {
   "metadata": {
    "ExecuteTime": {
     "end_time": "2025-06-24T13:06:12.584554Z",
     "start_time": "2025-06-24T13:06:12.579395Z"
    }
   },
   "cell_type": "code",
   "source": "data.target_names",
   "id": "4b58183afb1d26c3",
   "outputs": [
    {
     "data": {
      "text/plain": [
       "array(['setosa', 'versicolor', 'virginica'], dtype='<U10')"
      ]
     },
     "execution_count": 21,
     "metadata": {},
     "output_type": "execute_result"
    }
   ],
   "execution_count": 21
  },
  {
   "metadata": {
    "ExecuteTime": {
     "end_time": "2025-06-24T13:05:56.940158Z",
     "start_time": "2025-06-24T13:05:56.927889Z"
    }
   },
   "cell_type": "code",
   "source": "df_iris['target'].unique()",
   "id": "389a5332f658d43d",
   "outputs": [
    {
     "data": {
      "text/plain": [
       "array([0, 1, 2])"
      ]
     },
     "execution_count": 19,
     "metadata": {},
     "output_type": "execute_result"
    }
   ],
   "execution_count": 19
  },
  {
   "metadata": {
    "ExecuteTime": {
     "end_time": "2025-06-24T13:04:20.171758Z",
     "start_time": "2025-06-24T13:04:20.148161Z"
    }
   },
   "cell_type": "code",
   "source": "df_iris.info()",
   "id": "4411c7c19565abd",
   "outputs": [
    {
     "name": "stdout",
     "output_type": "stream",
     "text": [
      "<class 'pandas.core.frame.DataFrame'>\n",
      "RangeIndex: 150 entries, 0 to 149\n",
      "Data columns (total 5 columns):\n",
      " #   Column             Non-Null Count  Dtype  \n",
      "---  ------             --------------  -----  \n",
      " 0   sepal length (cm)  150 non-null    float64\n",
      " 1   sepal width (cm)   150 non-null    float64\n",
      " 2   petal length (cm)  150 non-null    float64\n",
      " 3   petal width (cm)   150 non-null    float64\n",
      " 4   target             150 non-null    int64  \n",
      "dtypes: float64(4), int64(1)\n",
      "memory usage: 6.0 KB\n"
     ]
    }
   ],
   "execution_count": 15
  }
 ],
 "metadata": {
  "kernelspec": {
   "display_name": "Python 3",
   "language": "python",
   "name": "python3"
  },
  "language_info": {
   "codemirror_mode": {
    "name": "ipython",
    "version": 2
   },
   "file_extension": ".py",
   "mimetype": "text/x-python",
   "name": "python",
   "nbconvert_exporter": "python",
   "pygments_lexer": "ipython2",
   "version": "2.7.6"
  }
 },
 "nbformat": 4,
 "nbformat_minor": 5
}
