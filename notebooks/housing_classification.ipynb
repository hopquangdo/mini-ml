{
 "cells": [
  {
   "cell_type": "code",
   "id": "initial_id",
   "metadata": {
    "collapsed": true,
    "ExecuteTime": {
     "end_time": "2025-07-13T16:13:19.384138Z",
     "start_time": "2025-07-13T16:13:04.098215Z"
    }
   },
   "source": [
    "import pandas as pd\n",
    "from sklearn.metrics import classification_report, accuracy_score\n",
    "\n",
    "from sklearn.linear_model import LogisticRegression\n",
    "from sklearn.neighbors import KNeighborsClassifier\n",
    "from sklearn.svm import SVC\n",
    "\n",
    "from models.linear_model import LogisticRegression as MyLogisticRegression\n",
    "from models.neighbors import KNeighborsClassifier as MyKNeighborsClassifier\n",
    "from models.svm import SVC as MySVC\n",
    "from models.tree import DecisionTreeClassifier as MyDecisionTreeClassifier\n",
    "from models.multiclass import OneVsRestClassifier"
   ],
   "outputs": [],
   "execution_count": 1
  },
  {
   "metadata": {
    "ExecuteTime": {
     "end_time": "2025-07-13T16:13:19.446897Z",
     "start_time": "2025-07-13T16:13:19.397662Z"
    }
   },
   "cell_type": "code",
   "source": [
    "train_df = pd.read_csv(\"./dataset/housing_train.csv\")\n",
    "test_df = pd.read_csv(\"./dataset/housing_test.csv\")"
   ],
   "id": "23e304cef31f17c5",
   "outputs": [],
   "execution_count": 2
  },
  {
   "metadata": {
    "ExecuteTime": {
     "end_time": "2025-07-13T16:13:20.485891Z",
     "start_time": "2025-07-13T16:13:20.475917Z"
    }
   },
   "cell_type": "code",
   "source": [
    "X_train = train_df.drop(columns=[\"LivingLevel\"])\n",
    "y_train = train_df[\"LivingLevel\"]\n",
    "X_test = test_df.drop(columns=[\"LivingLevel\"])\n",
    "y_test = test_df[\"LivingLevel\"]"
   ],
   "id": "fce9ad18b9b064fd",
   "outputs": [],
   "execution_count": 3
  },
  {
   "metadata": {
    "ExecuteTime": {
     "end_time": "2025-07-13T16:40:58.676524Z",
     "start_time": "2025-07-13T16:40:56.434249Z"
    }
   },
   "cell_type": "code",
   "source": [
    "models = {\n",
    "    \"Logistic Regression\": LogisticRegression(max_iter=1000000),\n",
    "    \"KNN\": KNeighborsClassifier(n_neighbors=5),\n",
    "    \"SVM\": SVC()\n",
    "}\n",
    "target_names = [\"Low\", \"Medium\", \"High\"]\n",
    "\n",
    "for name, model in models.items():\n",
    "    print(f\"=== {name} ===\")\n",
    "    model.fit(X_train, y_train)\n",
    "    y_pred = model.predict(X_test)\n",
    "    print(classification_report(y_test, y_pred, target_names=target_names))\n",
    "    print(\"-\" * 40)"
   ],
   "id": "a5846d2149128d6e",
   "outputs": [
    {
     "name": "stdout",
     "output_type": "stream",
     "text": [
      "=== Logistic Regression ===\n",
      "              precision    recall  f1-score   support\n",
      "\n",
      "         Low       0.99      0.96      0.97      1063\n",
      "      Medium       0.96      0.98      0.97      1983\n",
      "        High       0.97      0.96      0.97      1082\n",
      "\n",
      "    accuracy                           0.97      4128\n",
      "   macro avg       0.97      0.97      0.97      4128\n",
      "weighted avg       0.97      0.97      0.97      4128\n",
      "\n",
      "----------------------------------------\n",
      "=== KNN ===\n",
      "              precision    recall  f1-score   support\n",
      "\n",
      "         Low       0.97      0.96      0.96      1063\n",
      "      Medium       0.95      0.96      0.95      1983\n",
      "        High       0.95      0.95      0.95      1082\n",
      "\n",
      "    accuracy                           0.95      4128\n",
      "   macro avg       0.96      0.95      0.96      4128\n",
      "weighted avg       0.95      0.95      0.95      4128\n",
      "\n",
      "----------------------------------------\n",
      "=== SVM ===\n",
      "              precision    recall  f1-score   support\n",
      "\n",
      "         Low       0.99      0.98      0.99      1063\n",
      "      Medium       0.98      0.99      0.99      1983\n",
      "        High       0.99      0.99      0.99      1082\n",
      "\n",
      "    accuracy                           0.99      4128\n",
      "   macro avg       0.99      0.99      0.99      4128\n",
      "weighted avg       0.99      0.99      0.99      4128\n",
      "\n",
      "----------------------------------------\n"
     ]
    }
   ],
   "execution_count": 15
  },
  {
   "metadata": {
    "ExecuteTime": {
     "end_time": "2025-07-13T16:40:56.370185Z",
     "start_time": "2025-07-13T16:27:06.397030Z"
    }
   },
   "cell_type": "code",
   "source": [
    "model = OneVsRestClassifier(base_model_class=MyLogisticRegression, lr=0.1, max_iter=1000000)\n",
    "\n",
    "target_names = [\"Low\", \"Medium\", \"High\"]\n",
    "\n",
    "print(f\"=== Logistic Regression ===\")\n",
    "model.fit(X_train, y_train)\n",
    "y_pred = model.predict(X_test)\n",
    "print(classification_report(y_test, y_pred, target_names=target_names))\n",
    "print(\"-\" * 40)\n",
    "# 13m49s\n"
   ],
   "id": "793781ed6ea6e3d6",
   "outputs": [
    {
     "name": "stdout",
     "output_type": "stream",
     "text": [
      "=== Logistic Regression ===\n",
      "              precision    recall  f1-score   support\n",
      "\n",
      "         Low       0.99      0.98      0.98      1063\n",
      "      Medium       0.99      0.98      0.99      1983\n",
      "        High       0.98      0.99      0.99      1082\n",
      "\n",
      "    accuracy                           0.99      4128\n",
      "   macro avg       0.99      0.99      0.99      4128\n",
      "weighted avg       0.99      0.99      0.99      4128\n",
      "\n",
      "----------------------------------------\n"
     ]
    }
   ],
   "execution_count": 14
  },
  {
   "metadata": {
    "ExecuteTime": {
     "end_time": "2025-07-13T16:54:29.825142Z",
     "start_time": "2025-07-13T16:52:42.378277Z"
    }
   },
   "cell_type": "code",
   "source": [
    "model = MyDecisionTreeClassifier(max_depth=10)\n",
    "\n",
    "target_names = [\"Low\", \"Medium\", \"High\"]\n",
    "\n",
    "print(f\"=== DecisionTreeClassifier ===\")\n",
    "model.fit(X_train.values, y_train.values)\n",
    "y_pred = model.predict(X_test.values)\n",
    "print(classification_report(y_test, y_pred, target_names=target_names))\n",
    "print(\"-\" * 40)\n"
   ],
   "id": "52b77443b4e63ce5",
   "outputs": [
    {
     "name": "stdout",
     "output_type": "stream",
     "text": [
      "=== DecisionTreeClassifier ===\n",
      "              precision    recall  f1-score   support\n",
      "\n",
      "         Low       0.94      0.92      0.93      1063\n",
      "      Medium       0.90      0.93      0.92      1983\n",
      "        High       0.93      0.90      0.91      1082\n",
      "\n",
      "    accuracy                           0.92      4128\n",
      "   macro avg       0.93      0.92      0.92      4128\n",
      "weighted avg       0.92      0.92      0.92      4128\n",
      "\n",
      "----------------------------------------\n"
     ]
    }
   ],
   "execution_count": 26
  },
  {
   "metadata": {
    "ExecuteTime": {
     "end_time": "2025-07-13T16:54:36.273630Z",
     "start_time": "2025-07-13T16:54:29.865743Z"
    }
   },
   "cell_type": "code",
   "source": [
    "model = MyKNeighborsClassifier()\n",
    "\n",
    "target_names = [\"Low\", \"Medium\", \"High\"]\n",
    "\n",
    "print(f\"=== KNeighborsClassifier ===\")\n",
    "model.fit(X_train.values, y_train.values)\n",
    "y_pred = model.predict(X_test.values)\n",
    "print(classification_report(y_test, y_pred, target_names=target_names))\n",
    "print(\"-\" * 40)"
   ],
   "id": "8d8521ff4f20d433",
   "outputs": [
    {
     "name": "stdout",
     "output_type": "stream",
     "text": [
      "=== KNeighborsClassifier ===\n",
      "              precision    recall  f1-score   support\n",
      "\n",
      "         Low       0.97      0.96      0.97      1063\n",
      "      Medium       0.96      0.95      0.95      1983\n",
      "        High       0.94      0.95      0.95      1082\n",
      "\n",
      "    accuracy                           0.96      4128\n",
      "   macro avg       0.96      0.96      0.96      4128\n",
      "weighted avg       0.96      0.96      0.96      4128\n",
      "\n",
      "----------------------------------------\n"
     ]
    }
   ],
   "execution_count": 27
  },
  {
   "metadata": {
    "ExecuteTime": {
     "end_time": "2025-07-13T16:52:13.694042Z",
     "start_time": "2025-07-13T16:50:20.348197Z"
    }
   },
   "cell_type": "code",
   "source": [
    "model = MySVC()\n",
    "\n",
    "target_names = [\"Low\", \"Medium\", \"High\"]\n",
    "\n",
    "print(f\"=== SVC ===\")\n",
    "model.fit(X_train.values, y_train.values)\n",
    "y_pred = model.predict(X_test.values)\n",
    "print(classification_report(y_test, y_pred, target_names=target_names))\n",
    "print(\"-\" * 40)\n",
    "# 13m49s\n"
   ],
   "id": "4c0c77e353729bf3",
   "outputs": [
    {
     "name": "stdout",
     "output_type": "stream",
     "text": [
      "=== SVC ===\n",
      "              precision    recall  f1-score   support\n",
      "\n",
      "         Low       0.00      0.00      0.00      1063\n",
      "      Medium       0.48      1.00      0.65      1983\n",
      "        High       0.00      0.00      0.00      1082\n",
      "\n",
      "    accuracy                           0.48      4128\n",
      "   macro avg       0.16      0.33      0.22      4128\n",
      "weighted avg       0.23      0.48      0.31      4128\n",
      "\n",
      "----------------------------------------\n"
     ]
    },
    {
     "name": "stderr",
     "output_type": "stream",
     "text": [
      "F:\\app\\python\\Lib\\site-packages\\sklearn\\metrics\\_classification.py:1706: UndefinedMetricWarning: Precision is ill-defined and being set to 0.0 in labels with no predicted samples. Use `zero_division` parameter to control this behavior.\n",
      "  _warn_prf(average, modifier, f\"{metric.capitalize()} is\", result.shape[0])\n",
      "F:\\app\\python\\Lib\\site-packages\\sklearn\\metrics\\_classification.py:1706: UndefinedMetricWarning: Precision is ill-defined and being set to 0.0 in labels with no predicted samples. Use `zero_division` parameter to control this behavior.\n",
      "  _warn_prf(average, modifier, f\"{metric.capitalize()} is\", result.shape[0])\n",
      "F:\\app\\python\\Lib\\site-packages\\sklearn\\metrics\\_classification.py:1706: UndefinedMetricWarning: Precision is ill-defined and being set to 0.0 in labels with no predicted samples. Use `zero_division` parameter to control this behavior.\n",
      "  _warn_prf(average, modifier, f\"{metric.capitalize()} is\", result.shape[0])\n"
     ]
    }
   ],
   "execution_count": 24
  }
 ],
 "metadata": {
  "kernelspec": {
   "display_name": "Python 3",
   "language": "python",
   "name": "python3"
  },
  "language_info": {
   "codemirror_mode": {
    "name": "ipython",
    "version": 2
   },
   "file_extension": ".py",
   "mimetype": "text/x-python",
   "name": "python",
   "nbconvert_exporter": "python",
   "pygments_lexer": "ipython2",
   "version": "2.7.6"
  }
 },
 "nbformat": 4,
 "nbformat_minor": 5
}
