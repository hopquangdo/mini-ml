{
 "cells": [
  {
   "cell_type": "code",
   "id": "initial_id",
   "metadata": {
    "collapsed": true,
    "ExecuteTime": {
     "end_time": "2025-06-27T01:49:35.774996Z",
     "start_time": "2025-06-27T01:49:34.447897Z"
    }
   },
   "source": [
    "from sklearn.datasets import fetch_california_housing\n",
    "from sklearn.model_selection import train_test_split\n",
    "from sklearn.metrics import mean_squared_error, mean_absolute_error, r2_score\n",
    "\n",
    "from sklearn.linear_model import LinearRegression\n",
    "from sklearn.neighbors import KNeighborsRegressor\n",
    "from sklearn.tree import DecisionTreeRegressor\n",
    "from sklearn.svm import SVR\n",
    "from sklearn.cluster import KMeans\n",
    "\n",
    "from collections import defaultdict\n",
    "\n",
    "import numpy as np\n",
    "\n",
    "from models.linear_model import LinearRegression as MyLinearRegression\n",
    "from models.tree import DecisionTreeRegressor as MyDecisionTreeRegressor\n",
    "from models.neighbors import KNeighborsRegressor as MyKNeighborsRegressor\n",
    "from models.svm import SVR as MySVR\n",
    "from models.cluster import KMeansRegressor as MyKMeansRegressor\n",
    "\n",
    "from models.evaluate import evaluate_model_and_print"
   ],
   "outputs": [],
   "execution_count": 1
  },
  {
   "metadata": {
    "ExecuteTime": {
     "end_time": "2025-06-27T01:49:36.033488Z",
     "start_time": "2025-06-27T01:49:35.974450Z"
    }
   },
   "cell_type": "code",
   "source": [
    "data = fetch_california_housing()\n",
    "X = data.data\n",
    "y = data.target\n",
    "X_train, X_test, y_train, y_test = train_test_split(X, y, test_size=0.2, random_state=42)"
   ],
   "id": "1aad47ff51ae0bef",
   "outputs": [],
   "execution_count": 2
  },
  {
   "metadata": {
    "ExecuteTime": {
     "end_time": "2025-06-26T14:18:22.108627Z",
     "start_time": "2025-06-26T14:18:22.097599Z"
    }
   },
   "cell_type": "code",
   "source": [
    "model = LinearRegression()\n",
    "model.fit(X_train, y_train)\n",
    "\n",
    "evaluate_model_and_print(model, \"LinearRegression\", X_train, y_train, X_test, y_test)"
   ],
   "id": "c97d4f0507b4c679",
   "outputs": [
    {
     "name": "stdout",
     "output_type": "stream",
     "text": [
      "========== LinearRegression ==========\n",
      "Training model\n",
      "{'MSE': 0.5179331255246697, 'MAE': 0.5286283596582387, 'R2': 0.6125511913966952, 'Runtime (s)': 0.0}\n",
      "Testing model\n",
      "{'MSE': 0.5558915986952425, 'MAE': 0.5332001304956989, 'R2': 0.5757877060324521, 'Runtime (s)': 0.0}\n"
     ]
    }
   ],
   "execution_count": 6
  },
  {
   "metadata": {
    "ExecuteTime": {
     "end_time": "2025-06-26T14:18:24.937714Z",
     "start_time": "2025-06-26T14:18:24.923307Z"
    }
   },
   "cell_type": "code",
   "source": [
    "model = MyLinearRegression()\n",
    "model.fit(X_train, y_train)\n",
    "\n",
    "evaluate_model_and_print(model, \"LinearRegression\", X_train, y_train, X_test, y_test)"
   ],
   "id": "b1ef06e1df30f194",
   "outputs": [
    {
     "name": "stdout",
     "output_type": "stream",
     "text": [
      "========== LinearRegression ==========\n",
      "Training model\n",
      "{'MSE': 0.5179331255246699, 'MAE': 0.5286283595868713, 'R2': 0.6125511913966952, 'Runtime (s)': 0.0012273788452148438}\n",
      "Testing model\n",
      "{'MSE': 0.5558915986635711, 'MAE': 0.5332001304516896, 'R2': 0.5757877060566213, 'Runtime (s)': 0.0}\n"
     ]
    }
   ],
   "execution_count": 7
  },
  {
   "metadata": {
    "ExecuteTime": {
     "end_time": "2025-06-26T14:18:26.588118Z",
     "start_time": "2025-06-26T14:18:26.515835Z"
    }
   },
   "cell_type": "code",
   "source": [
    "model = KNeighborsRegressor()\n",
    "model.fit(X_train, y_train)\n",
    "\n",
    "evaluate_model_and_print(model, \"KNeighborsRegressor\", X_train, y_train, X_test, y_test)"
   ],
   "id": "58229d5f18ffa208",
   "outputs": [
    {
     "name": "stdout",
     "output_type": "stream",
     "text": [
      "========== KNeighborsRegressor ==========\n",
      "Training model\n",
      "{'MSE': 0.5565297600425818, 'MAE': 0.5661103900193799, 'R2': 0.5836783131753738, 'Runtime (s)': 0.03767132759094238}\n",
      "Testing model\n",
      "{'MSE': 1.1694144088518572, 'MAE': 0.8304867425710595, 'R2': 0.10759585116572867, 'Runtime (s)': 0.01002359390258789}\n"
     ]
    }
   ],
   "execution_count": 8
  },
  {
   "metadata": {
    "ExecuteTime": {
     "end_time": "2025-06-26T14:18:56.661653Z",
     "start_time": "2025-06-26T14:18:28.298696Z"
    }
   },
   "cell_type": "code",
   "outputs": [
    {
     "name": "stdout",
     "output_type": "stream",
     "text": [
      "========== KNeighborsRegressor ==========\n",
      "Training model\n",
      "{'MSE': 0.5565297600425818, 'MAE': 0.5661103900193799, 'R2': 0.5836783131753738, 'Runtime (s)': 22.726046323776245}\n",
      "Testing model\n",
      "{'MSE': 1.1694144088518572, 'MAE': 0.8304867425710595, 'R2': 0.10759585116572867, 'Runtime (s)': 5.631476402282715}\n"
     ]
    }
   ],
   "execution_count": 9,
   "source": [
    "model = MyKNeighborsRegressor()\n",
    "model.fit(X_train, y_train)\n",
    "\n",
    "evaluate_model_and_print(model, \"KNeighborsRegressor\", X_train, y_train, X_test, y_test)"
   ],
   "id": "8a2f87f98bb9a11b"
  },
  {
   "metadata": {
    "ExecuteTime": {
     "end_time": "2025-06-26T16:21:38.422576Z",
     "start_time": "2025-06-26T16:21:38.291433Z"
    }
   },
   "cell_type": "code",
   "outputs": [
    {
     "name": "stdout",
     "output_type": "stream",
     "text": [
      "========== KNeighborsRegressor ==========\n",
      "Training model\n",
      "{'MSE': 0.0, 'MAE': 0.0, 'R2': 1.0, 'Runtime (s)': 0.08110833168029785}\n",
      "Testing model\n",
      "{'MSE': 1.0853068711974831, 'MAE': 0.7989658482565546, 'R2': 0.1717800402631512, 'Runtime (s)': 0.01402735710144043}\n"
     ]
    }
   ],
   "execution_count": 3,
   "source": [
    "model = KNeighborsRegressor(weights=\"distance\")\n",
    "model.fit(X_train, y_train)\n",
    "\n",
    "evaluate_model_and_print(model, \"KNeighborsRegressor\", X_train, y_train, X_test, y_test)"
   ],
   "id": "9557161d948c20e9"
  },
  {
   "metadata": {
    "ExecuteTime": {
     "end_time": "2025-06-26T16:22:34.433072Z",
     "start_time": "2025-06-26T16:22:01.436128Z"
    }
   },
   "cell_type": "code",
   "outputs": [
    {
     "name": "stdout",
     "output_type": "stream",
     "text": [
      "========== KNeighborsRegressor ==========\n",
      "Training model\n",
      "{'MSE': 4.3878329171171916e-17, 'MAE': 4.7830276118123784e-09, 'R2': 1.0, 'Runtime (s)': 26.903007984161377}\n",
      "Testing model\n",
      "{'MSE': 1.1442531948011332, 'MAE': 0.8202660546786413, 'R2': 0.1267968902829213, 'Runtime (s)': 6.086496591567993}\n"
     ]
    }
   ],
   "execution_count": 4,
   "source": [
    "model = MyKNeighborsRegressor(weights=\"distance\")\n",
    "model.fit(X_train, y_train)\n",
    "\n",
    "evaluate_model_and_print(model, \"KNeighborsRegressor\", X_train, y_train, X_test, y_test)"
   ],
   "id": "93ae2ce190d106bb"
  },
  {
   "metadata": {
    "ExecuteTime": {
     "end_time": "2025-06-26T14:19:34.779171Z",
     "start_time": "2025-06-26T14:18:56.679532Z"
    }
   },
   "cell_type": "code",
   "source": [
    "model = MyKNeighborsRegressor(distance_metric=\"manhattan\")\n",
    "model.fit(X_train, y_train)\n",
    "\n",
    "evaluate_model_and_print(model, \"KNeighborsRegressor\", X_train, y_train, X_test, y_test)"
   ],
   "id": "2913d7406cea613f",
   "outputs": [
    {
     "name": "stdout",
     "output_type": "stream",
     "text": [
      "========== KNeighborsRegressor ==========\n",
      "Training model\n",
      "{'MSE': 0.5110898704215525, 'MAE': 0.5371306974725452, 'R2': 0.6176704064188767, 'Runtime (s)': 30.201469898223877}\n",
      "Testing model\n",
      "{'MSE': 1.0538158181481643, 'MAE': 0.7806350775193798, 'R2': 0.19581150950078763, 'Runtime (s)': 7.889655828475952}\n"
     ]
    }
   ],
   "execution_count": 10
  },
  {
   "metadata": {
    "ExecuteTime": {
     "end_time": "2025-06-26T14:19:34.897136Z",
     "start_time": "2025-06-26T14:19:34.798875Z"
    }
   },
   "cell_type": "code",
   "source": [
    "model = DecisionTreeRegressor(max_depth=5)\n",
    "model.fit(X_train, y_train)\n",
    "\n",
    "evaluate_model_and_print(model, \"DecisionTreeRegressor\", X_train, y_train, X_test, y_test)"
   ],
   "id": "bb72239a40d75bc2",
   "outputs": [
    {
     "name": "stdout",
     "output_type": "stream",
     "text": [
      "========== DecisionTreeRegressor ==========\n",
      "Training model\n",
      "{'MSE': 0.4843432765009063, 'MAE': 0.5063471123358747, 'R2': 0.6376786573648903, 'Runtime (s)': 0.002016782760620117}\n",
      "Testing model\n",
      "{'MSE': 0.5245146178314735, 'MAE': 0.5222592972077787, 'R2': 0.5997321244428706, 'Runtime (s)': 0.0009872913360595703}\n"
     ]
    }
   ],
   "execution_count": 11
  },
  {
   "metadata": {
    "ExecuteTime": {
     "end_time": "2025-06-26T14:20:28.598229Z",
     "start_time": "2025-06-26T14:19:34.924265Z"
    }
   },
   "cell_type": "code",
   "source": [
    "model = MyDecisionTreeRegressor(max_depth=5)\n",
    "model.fit(X_train, y_train)\n",
    "\n",
    "evaluate_model_and_print(model, \"DecisionTreeRegressor\", X_train, y_train, X_test, y_test)"
   ],
   "id": "6a1949fddb6a3a62",
   "outputs": [
    {
     "name": "stdout",
     "output_type": "stream",
     "text": [
      "========== DecisionTreeRegressor ==========\n",
      "Training model\n",
      "{'MSE': 0.4843432765009063, 'MAE': 0.5063471123358744, 'R2': 0.6376786573648903, 'Runtime (s)': 0.018975019454956055}\n",
      "Testing model\n",
      "{'MSE': 0.5245146178314738, 'MAE': 0.5222592972077785, 'R2': 0.5997321244428704, 'Runtime (s)': 0.003584623336791992}\n"
     ]
    }
   ],
   "execution_count": 12
  },
  {
   "metadata": {
    "ExecuteTime": {
     "end_time": "2025-06-26T14:21:18.250917Z",
     "start_time": "2025-06-26T14:20:28.644979Z"
    }
   },
   "cell_type": "code",
   "source": [
    "model = MyDecisionTreeRegressor(max_depth=5, use_all_thresholds=True)\n",
    "model.fit(X_train, y_train)\n",
    "\n",
    "evaluate_model_and_print(model, \"DecisionTreeRegressor\", X_train, y_train, X_test, y_test)"
   ],
   "id": "12ca76420606c7ad",
   "outputs": [
    {
     "name": "stdout",
     "output_type": "stream",
     "text": [
      "========== DecisionTreeRegressor ==========\n",
      "Training model\n",
      "{'MSE': 0.4843432765009063, 'MAE': 0.5063471123358744, 'R2': 0.6376786573648903, 'Runtime (s)': 0.024107933044433594}\n",
      "Testing model\n",
      "{'MSE': 0.5245146178314738, 'MAE': 0.5222592972077785, 'R2': 0.5997321244428704, 'Runtime (s)': 0.005521535873413086}\n"
     ]
    }
   ],
   "execution_count": 13
  },
  {
   "metadata": {
    "ExecuteTime": {
     "end_time": "2025-06-26T14:21:47.431049Z",
     "start_time": "2025-06-26T14:21:18.309077Z"
    }
   },
   "cell_type": "code",
   "source": [
    "model = SVR()\n",
    "model.fit(X_train, y_train)\n",
    "\n",
    "evaluate_model_and_print(model, \"SVR\", X_train, y_train, X_test, y_test)"
   ],
   "id": "93b5471f6922cc8",
   "outputs": [
    {
     "name": "stdout",
     "output_type": "stream",
     "text": [
      "========== SVR ==========\n",
      "Training model\n",
      "{'MSE': 1.3685019409034658, 'MAE': 0.8715010413485207, 'R2': -0.023731482780208424, 'Runtime (s)': 15.211580276489258}\n",
      "Testing model\n",
      "{'MSE': 1.3320115421348784, 'MAE': 0.8599506583445775, 'R2': -0.016485360107176605, 'Runtime (s)': 4.0692925453186035}\n"
     ]
    }
   ],
   "execution_count": 14
  },
  {
   "metadata": {
    "ExecuteTime": {
     "end_time": "2025-06-26T14:22:33.134882Z",
     "start_time": "2025-06-26T14:21:47.445140Z"
    }
   },
   "cell_type": "code",
   "source": [
    "model = MySVR(epsilon=10)\n",
    "model.fit(X_train, y_train)\n",
    "\n",
    "evaluate_model_and_print(model, \"SVR\", X_train, y_train, X_test, y_test)"
   ],
   "id": "c2af6946b34d1cf9",
   "outputs": [
    {
     "name": "stdout",
     "output_type": "stream",
     "text": [
      "========== SVR ==========\n",
      "Training model\n",
      "{'MSE': 5.629742323103131, 'MAE': 2.071946937378876, 'R2': -3.21142585468018, 'Runtime (s)': 0.0}\n",
      "Testing model\n",
      "{'MSE': 5.53344670252374, 'MAE': 2.0550030959302323, 'R2': -3.2226868057267666, 'Runtime (s)': 0.0}\n"
     ]
    }
   ],
   "execution_count": 15
  },
  {
   "metadata": {
    "ExecuteTime": {
     "end_time": "2025-06-26T14:22:36.913611Z",
     "start_time": "2025-06-26T14:22:33.184546Z"
    }
   },
   "cell_type": "code",
   "source": [
    "model = KMeans()\n",
    "model.fit(X_train)\n",
    "\n",
    "train_clusters = model.predict(X_train)\n",
    "\n",
    "cluster_to_value = defaultdict(float)\n",
    "\n",
    "for i in range(model.n_clusters):\n",
    "    mask = (train_clusters == i)\n",
    "    if np.sum(mask) > 0:\n",
    "        cluster_to_value[i] = np.mean(y_train[mask])\n",
    "    else:\n",
    "        cluster_to_value[i] = 0.0\n",
    "\n",
    "test_clusters = model.predict(X_test)\n",
    "y_pred = np.array([cluster_to_value[int(cid)] for cid in test_clusters])\n",
    "\n",
    "print(\"MSE:\", mean_squared_error(y_test, y_pred))\n",
    "print(\"MAE:\", mean_absolute_error(y_test, y_pred))\n",
    "print(\"R2 Score:\", r2_score(y_test, y_pred))\n"
   ],
   "id": "e38a2b4142fda60",
   "outputs": [
    {
     "name": "stdout",
     "output_type": "stream",
     "text": [
      "MSE: 1.309622168398441\n",
      "MAE: 0.9058271467807946\n",
      "R2 Score: 0.0006004307475936388\n"
     ]
    }
   ],
   "execution_count": 16
  },
  {
   "metadata": {
    "ExecuteTime": {
     "end_time": "2025-06-27T02:00:26.848411Z",
     "start_time": "2025-06-27T02:00:23.807715Z"
    }
   },
   "cell_type": "code",
   "source": [
    "model = MyKMeansRegressor()\n",
    "model.fit(X_train, y_train)\n",
    "evaluate_model_and_print(model, \"KMeansRegressor\", X_train, y_train, X_test, y_test)"
   ],
   "id": "fd241aeba0eb4170",
   "outputs": [
    {
     "name": "stdout",
     "output_type": "stream",
     "text": [
      "[3.821 1.726 0.934 ... 3.081 1.635 2.292]\n",
      "[1.03  2.648 1.594 ... 2.221 2.835 3.25 ]\n",
      "[3.156   1.581   2.865   1.807   1.837   1.429   2.185   1.219   3.491\n",
      " 2.389   1.546   2.542   1.279   0.797   1.911   1.633   2.21    1.455\n",
      " 1.289   1.162   4.025   1.694   1.739   1.43    0.618   2.62    1.126\n",
      " 1.687   1.174   1.537   0.68    1.822   2.611   1.985   2.374   2.953\n",
      " 2.107   2.165   0.694   2.609   2.905   2.194   2.252   2.13    2.275\n",
      " 1.679   1.621   0.479   3.115   2.184   1.194   2.813   3.225   1.932\n",
      " 1.11    1.673   2.621   3.304   1.868   1.6     1.661   0.225   1.782\n",
      " 1.791   1.001   2.25    2.621   3.397   3.489   0.74    1.693   1.266\n",
      " 2.403   1.005   2.347   2.596   0.883   1.188   1.345   2.109   1.983\n",
      " 3.209   1.857   2.25    1.215   2.399   2.842   2.735   3.53    1.867\n",
      " 2.148   3.107   2.362   1.234   1.668   3.1     1.298   2.534   3.258\n",
      " 2.018   2.203   3.587   2.579   2.409   1.319   3.543   1.278   2.67\n",
      " 1.411   1.879   1.568   1.83    2.713   1.591   5.00001 2.54    1.429\n",
      " 1.128   1.625   1.645   0.909   4.72    2.539   1.42    2.377   1.361\n",
      " 1.708   1.357   1.826   1.938   2.465   1.034   1.843   0.375   2.08\n",
      " 1.034   1.818   1.622   0.958   1.878   1.16    1.007   1.975   5.00001\n",
      " 1.349   1.435   1.509   2.1     1.038   1.878   2.327   2.613   2.043\n",
      " 0.978   2.896   1.098   1.132   1.459   2.651   2.652   1.92    0.872\n",
      " 1.549   0.925   5.00001 1.993   2.506   2.379   2.065   1.691   2.645\n",
      " 2.783   1.271   1.365   1.709   0.556   1.977   1.326   1.614   3.445\n",
      " 2.864   3.334   1.689   1.258   3.576   2.123   2.173   1.163   1.946\n",
      " 0.7     2.637   1.272   1.175   5.00001 1.418   1.398   2.17    3.992\n",
      " 3.5     2.798   0.798   0.35    1.681   1.212   1.318   2.129   1.437\n",
      " 0.824   1.375   1.708   1.972   1.083   2.098   3.683   1.492   1.437\n",
      " 1.212   1.527   2.549   1.366   0.813   1.707   1.696   2.545   1.158\n",
      " 2.5     3.183   1.376   1.676   1.464   2.766   0.991   1.639   1.297\n",
      " 0.9     2.698   2.362   2.611   1.533   0.675   0.883   0.816   1.667\n",
      " 3.71    2.289   1.185   3.083   2.773   1.773   0.888   1.154   1.372\n",
      " 1.875   5.00001 2.034   2.625   2.335   1.089   3.092   3.149   2.821\n",
      " 1.221   1.933   0.904   0.608   0.882   1.634   1.953   1.568   1.904\n",
      " 1.151   2.239   1.576   2.832   1.435   3.189   1.953   1.444   2.311\n",
      " 2.818   2.208   2.139   2.122   1.2     1.519   0.63    1.569   2.395\n",
      " 1.03    1.479   1.426   2.273   1.192   2.046   3.196   0.879   2.155\n",
      " 2.363   1.063   3.4     1.688   2.225   3.529   2.271   1.604   1.576\n",
      " 1.655   1.674   1.667   1.326   3.507   0.956   1.332   4.113   3.403\n",
      " 1.316   1.83    0.743   2.724   1.246   1.993   2.782   2.303   2.138\n",
      " 2.131   1.951   1.473   2.042   0.985   2.262   2.451   1.296   5.00001\n",
      " 2.456   1.528   2.678   2.034   1.325   1.829   0.546   1.232   2.519\n",
      " 2.674   3.081   0.933   1.483   1.309   1.422   1.606   1.934   1.381\n",
      " 3.112   2.856   3.431   1.454   2.252   1.955   0.953   1.719   1.872\n",
      " 0.95    5.00001 2.653   0.666   3.5     1.996   2.375   2.962   1.499\n",
      " 5.00001 1.646   1.387   5.00001 1.923   1.344   2.512   5.00001 1.195\n",
      " 1.513   1.743   3.567   2.832   1.419   1.545   3.137   1.353   3.185\n",
      " 0.809   1.543   1.933   2.103   1.858   1.577   1.632   1.235   1.504\n",
      " 4.511   2.5     1.313   1.5     1.469   3.613   4.504   1.327   1.943\n",
      " 1.137   1.642   1.034   1.738   2.276   1.41    1.448   3.547   2.221\n",
      " 1.063   1.531   0.699   2.289   1.641   1.426   3.788   1.924   1.603\n",
      " 2.45    1.925  ]\n",
      "========== KMeansRegressor ==========\n",
      "Training model\n",
      "{'MSE': 1.3354063010230042, 'MAE': 0.913632710677265, 'R2': 0.0010262815135104741, 'Runtime (s)': 0.08322763442993164}\n",
      "Testing model\n",
      "{'MSE': 1.3088979591432353, 'MAE': 0.9051875076703768, 'R2': 0.0011530897015776809, 'Runtime (s)': 0.019025564193725586}\n"
     ]
    }
   ],
   "execution_count": 3
  },
  {
   "metadata": {
    "jupyter": {
     "is_executing": true
    },
    "ExecuteTime": {
     "start_time": "2025-06-27T02:00:26.870497Z"
    }
   },
   "cell_type": "code",
   "source": [
    "model = MyKMeansRegressor(n_clusters=10000)\n",
    "model.fit(X_train, y_train)\n",
    "evaluate_model_and_print(model, \"KMeansRegressor\", X_train, y_train, X_test, y_test)"
   ],
   "id": "41b2a9b762181d9d",
   "outputs": [],
   "execution_count": null
  }
 ],
 "metadata": {
  "kernelspec": {
   "display_name": "Python 3",
   "language": "python",
   "name": "python3"
  },
  "language_info": {
   "codemirror_mode": {
    "name": "ipython",
    "version": 2
   },
   "file_extension": ".py",
   "mimetype": "text/x-python",
   "name": "python",
   "nbconvert_exporter": "python",
   "pygments_lexer": "ipython2",
   "version": "2.7.6"
  }
 },
 "nbformat": 4,
 "nbformat_minor": 5
}
