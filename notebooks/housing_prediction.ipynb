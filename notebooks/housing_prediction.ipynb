{
 "cells": [
  {
   "cell_type": "code",
   "id": "initial_id",
   "metadata": {
    "collapsed": true,
    "ExecuteTime": {
     "end_time": "2025-06-27T09:24:57.167945Z",
     "start_time": "2025-06-27T09:24:57.158519Z"
    }
   },
   "source": [
    "from sklearn.datasets import fetch_california_housing\n",
    "from sklearn.model_selection import train_test_split\n",
    "from sklearn.metrics import mean_squared_error, mean_absolute_error, r2_score\n",
    "\n",
    "from sklearn.linear_model import LinearRegression\n",
    "from sklearn.neighbors import KNeighborsRegressor\n",
    "from sklearn.tree import DecisionTreeRegressor\n",
    "from sklearn.svm import SVR\n",
    "from sklearn.cluster import KMeans\n",
    "\n",
    "from collections import defaultdict\n",
    "\n",
    "import numpy as np\n",
    "\n",
    "from models.linear_model import LinearRegression as MyLinearRegression\n",
    "from models.tree import DecisionTreeRegressor as MyDecisionTreeRegressor\n",
    "from models.neighbors import KNeighborsRegressor as MyKNeighborsRegressor\n",
    "from models.svm import SVR as MySVR\n",
    "from models.cluster import KMeansRegressor as MyKMeansRegressor\n",
    "\n",
    "from models.evaluate import evaluate_model_and_print"
   ],
   "outputs": [],
   "execution_count": 7
  },
  {
   "metadata": {
    "ExecuteTime": {
     "end_time": "2025-06-27T08:36:04.055794Z",
     "start_time": "2025-06-27T08:36:04.030622Z"
    }
   },
   "cell_type": "code",
   "source": [
    "data = fetch_california_housing()\n",
    "X = data.data\n",
    "y = data.target\n",
    "X_train, X_test, y_train, y_test = train_test_split(X, y, test_size=0.2, random_state=42)"
   ],
   "id": "1aad47ff51ae0bef",
   "outputs": [],
   "execution_count": 2
  },
  {
   "metadata": {
    "ExecuteTime": {
     "end_time": "2025-06-26T14:18:22.108627Z",
     "start_time": "2025-06-26T14:18:22.097599Z"
    }
   },
   "cell_type": "code",
   "source": [
    "model = LinearRegression()\n",
    "model.fit(X_train, y_train)\n",
    "\n",
    "evaluate_model_and_print(model, \"LinearRegression\", X_train, y_train, X_test, y_test)"
   ],
   "id": "c97d4f0507b4c679",
   "outputs": [
    {
     "name": "stdout",
     "output_type": "stream",
     "text": [
      "========== LinearRegression ==========\n",
      "Training model\n",
      "{'MSE': 0.5179331255246697, 'MAE': 0.5286283596582387, 'R2': 0.6125511913966952, 'Runtime (s)': 0.0}\n",
      "Testing model\n",
      "{'MSE': 0.5558915986952425, 'MAE': 0.5332001304956989, 'R2': 0.5757877060324521, 'Runtime (s)': 0.0}\n"
     ]
    }
   ],
   "execution_count": 6
  },
  {
   "metadata": {
    "ExecuteTime": {
     "end_time": "2025-06-26T14:18:24.937714Z",
     "start_time": "2025-06-26T14:18:24.923307Z"
    }
   },
   "cell_type": "code",
   "source": [
    "model = MyLinearRegression()\n",
    "model.fit(X_train, y_train)\n",
    "\n",
    "evaluate_model_and_print(model, \"LinearRegression\", X_train, y_train, X_test, y_test)"
   ],
   "id": "b1ef06e1df30f194",
   "outputs": [
    {
     "name": "stdout",
     "output_type": "stream",
     "text": [
      "========== LinearRegression ==========\n",
      "Training model\n",
      "{'MSE': 0.5179331255246699, 'MAE': 0.5286283595868713, 'R2': 0.6125511913966952, 'Runtime (s)': 0.0012273788452148438}\n",
      "Testing model\n",
      "{'MSE': 0.5558915986635711, 'MAE': 0.5332001304516896, 'R2': 0.5757877060566213, 'Runtime (s)': 0.0}\n"
     ]
    }
   ],
   "execution_count": 7
  },
  {
   "metadata": {
    "ExecuteTime": {
     "end_time": "2025-06-26T14:18:26.588118Z",
     "start_time": "2025-06-26T14:18:26.515835Z"
    }
   },
   "cell_type": "code",
   "source": [
    "model = KNeighborsRegressor()\n",
    "model.fit(X_train, y_train)\n",
    "\n",
    "evaluate_model_and_print(model, \"KNeighborsRegressor\", X_train, y_train, X_test, y_test)"
   ],
   "id": "58229d5f18ffa208",
   "outputs": [
    {
     "name": "stdout",
     "output_type": "stream",
     "text": [
      "========== KNeighborsRegressor ==========\n",
      "Training model\n",
      "{'MSE': 0.5565297600425818, 'MAE': 0.5661103900193799, 'R2': 0.5836783131753738, 'Runtime (s)': 0.03767132759094238}\n",
      "Testing model\n",
      "{'MSE': 1.1694144088518572, 'MAE': 0.8304867425710595, 'R2': 0.10759585116572867, 'Runtime (s)': 0.01002359390258789}\n"
     ]
    }
   ],
   "execution_count": 8
  },
  {
   "metadata": {
    "ExecuteTime": {
     "end_time": "2025-06-26T14:18:56.661653Z",
     "start_time": "2025-06-26T14:18:28.298696Z"
    }
   },
   "cell_type": "code",
   "outputs": [
    {
     "name": "stdout",
     "output_type": "stream",
     "text": [
      "========== KNeighborsRegressor ==========\n",
      "Training model\n",
      "{'MSE': 0.5565297600425818, 'MAE': 0.5661103900193799, 'R2': 0.5836783131753738, 'Runtime (s)': 22.726046323776245}\n",
      "Testing model\n",
      "{'MSE': 1.1694144088518572, 'MAE': 0.8304867425710595, 'R2': 0.10759585116572867, 'Runtime (s)': 5.631476402282715}\n"
     ]
    }
   ],
   "execution_count": 9,
   "source": [
    "model = MyKNeighborsRegressor()\n",
    "model.fit(X_train, y_train)\n",
    "\n",
    "evaluate_model_and_print(model, \"KNeighborsRegressor\", X_train, y_train, X_test, y_test)"
   ],
   "id": "8a2f87f98bb9a11b"
  },
  {
   "metadata": {
    "ExecuteTime": {
     "end_time": "2025-06-26T16:21:38.422576Z",
     "start_time": "2025-06-26T16:21:38.291433Z"
    }
   },
   "cell_type": "code",
   "outputs": [
    {
     "name": "stdout",
     "output_type": "stream",
     "text": [
      "========== KNeighborsRegressor ==========\n",
      "Training model\n",
      "{'MSE': 0.0, 'MAE': 0.0, 'R2': 1.0, 'Runtime (s)': 0.08110833168029785}\n",
      "Testing model\n",
      "{'MSE': 1.0853068711974831, 'MAE': 0.7989658482565546, 'R2': 0.1717800402631512, 'Runtime (s)': 0.01402735710144043}\n"
     ]
    }
   ],
   "execution_count": 3,
   "source": [
    "model = KNeighborsRegressor(weights=\"distance\")\n",
    "model.fit(X_train, y_train)\n",
    "\n",
    "evaluate_model_and_print(model, \"KNeighborsRegressor\", X_train, y_train, X_test, y_test)"
   ],
   "id": "9557161d948c20e9"
  },
  {
   "metadata": {
    "ExecuteTime": {
     "end_time": "2025-06-26T16:22:34.433072Z",
     "start_time": "2025-06-26T16:22:01.436128Z"
    }
   },
   "cell_type": "code",
   "outputs": [
    {
     "name": "stdout",
     "output_type": "stream",
     "text": [
      "========== KNeighborsRegressor ==========\n",
      "Training model\n",
      "{'MSE': 4.3878329171171916e-17, 'MAE': 4.7830276118123784e-09, 'R2': 1.0, 'Runtime (s)': 26.903007984161377}\n",
      "Testing model\n",
      "{'MSE': 1.1442531948011332, 'MAE': 0.8202660546786413, 'R2': 0.1267968902829213, 'Runtime (s)': 6.086496591567993}\n"
     ]
    }
   ],
   "execution_count": 4,
   "source": [
    "model = MyKNeighborsRegressor(weights=\"distance\")\n",
    "model.fit(X_train, y_train)\n",
    "\n",
    "evaluate_model_and_print(model, \"KNeighborsRegressor\", X_train, y_train, X_test, y_test)"
   ],
   "id": "93ae2ce190d106bb"
  },
  {
   "metadata": {
    "ExecuteTime": {
     "end_time": "2025-06-26T14:19:34.779171Z",
     "start_time": "2025-06-26T14:18:56.679532Z"
    }
   },
   "cell_type": "code",
   "source": [
    "model = MyKNeighborsRegressor(distance_metric=\"manhattan\")\n",
    "model.fit(X_train, y_train)\n",
    "\n",
    "evaluate_model_and_print(model, \"KNeighborsRegressor\", X_train, y_train, X_test, y_test)"
   ],
   "id": "2913d7406cea613f",
   "outputs": [
    {
     "name": "stdout",
     "output_type": "stream",
     "text": [
      "========== KNeighborsRegressor ==========\n",
      "Training model\n",
      "{'MSE': 0.5110898704215525, 'MAE': 0.5371306974725452, 'R2': 0.6176704064188767, 'Runtime (s)': 30.201469898223877}\n",
      "Testing model\n",
      "{'MSE': 1.0538158181481643, 'MAE': 0.7806350775193798, 'R2': 0.19581150950078763, 'Runtime (s)': 7.889655828475952}\n"
     ]
    }
   ],
   "execution_count": 10
  },
  {
   "metadata": {
    "ExecuteTime": {
     "end_time": "2025-06-26T14:19:34.897136Z",
     "start_time": "2025-06-26T14:19:34.798875Z"
    }
   },
   "cell_type": "code",
   "source": [
    "model = DecisionTreeRegressor(max_depth=5)\n",
    "model.fit(X_train, y_train)\n",
    "\n",
    "evaluate_model_and_print(model, \"DecisionTreeRegressor\", X_train, y_train, X_test, y_test)"
   ],
   "id": "bb72239a40d75bc2",
   "outputs": [
    {
     "name": "stdout",
     "output_type": "stream",
     "text": [
      "========== DecisionTreeRegressor ==========\n",
      "Training model\n",
      "{'MSE': 0.4843432765009063, 'MAE': 0.5063471123358747, 'R2': 0.6376786573648903, 'Runtime (s)': 0.002016782760620117}\n",
      "Testing model\n",
      "{'MSE': 0.5245146178314735, 'MAE': 0.5222592972077787, 'R2': 0.5997321244428706, 'Runtime (s)': 0.0009872913360595703}\n"
     ]
    }
   ],
   "execution_count": 11
  },
  {
   "metadata": {
    "ExecuteTime": {
     "end_time": "2025-06-26T14:20:28.598229Z",
     "start_time": "2025-06-26T14:19:34.924265Z"
    }
   },
   "cell_type": "code",
   "source": [
    "model = MyDecisionTreeRegressor(max_depth=5)\n",
    "model.fit(X_train, y_train)\n",
    "\n",
    "evaluate_model_and_print(model, \"DecisionTreeRegressor\", X_train, y_train, X_test, y_test)"
   ],
   "id": "6a1949fddb6a3a62",
   "outputs": [
    {
     "name": "stdout",
     "output_type": "stream",
     "text": [
      "========== DecisionTreeRegressor ==========\n",
      "Training model\n",
      "{'MSE': 0.4843432765009063, 'MAE': 0.5063471123358744, 'R2': 0.6376786573648903, 'Runtime (s)': 0.018975019454956055}\n",
      "Testing model\n",
      "{'MSE': 0.5245146178314738, 'MAE': 0.5222592972077785, 'R2': 0.5997321244428704, 'Runtime (s)': 0.003584623336791992}\n"
     ]
    }
   ],
   "execution_count": 12
  },
  {
   "metadata": {
    "ExecuteTime": {
     "end_time": "2025-06-26T14:21:18.250917Z",
     "start_time": "2025-06-26T14:20:28.644979Z"
    }
   },
   "cell_type": "code",
   "source": [
    "model = MyDecisionTreeRegressor(max_depth=5, use_all_thresholds=True)\n",
    "model.fit(X_train, y_train)\n",
    "\n",
    "evaluate_model_and_print(model, \"DecisionTreeRegressor\", X_train, y_train, X_test, y_test)"
   ],
   "id": "12ca76420606c7ad",
   "outputs": [
    {
     "name": "stdout",
     "output_type": "stream",
     "text": [
      "========== DecisionTreeRegressor ==========\n",
      "Training model\n",
      "{'MSE': 0.4843432765009063, 'MAE': 0.5063471123358744, 'R2': 0.6376786573648903, 'Runtime (s)': 0.024107933044433594}\n",
      "Testing model\n",
      "{'MSE': 0.5245146178314738, 'MAE': 0.5222592972077785, 'R2': 0.5997321244428704, 'Runtime (s)': 0.005521535873413086}\n"
     ]
    }
   ],
   "execution_count": 13
  },
  {
   "metadata": {
    "ExecuteTime": {
     "end_time": "2025-06-26T14:21:47.431049Z",
     "start_time": "2025-06-26T14:21:18.309077Z"
    }
   },
   "cell_type": "code",
   "source": [
    "model = SVR()\n",
    "model.fit(X_train, y_train)\n",
    "\n",
    "evaluate_model_and_print(model, \"SVR\", X_train, y_train, X_test, y_test)"
   ],
   "id": "93b5471f6922cc8",
   "outputs": [
    {
     "name": "stdout",
     "output_type": "stream",
     "text": [
      "========== SVR ==========\n",
      "Training model\n",
      "{'MSE': 1.3685019409034658, 'MAE': 0.8715010413485207, 'R2': -0.023731482780208424, 'Runtime (s)': 15.211580276489258}\n",
      "Testing model\n",
      "{'MSE': 1.3320115421348784, 'MAE': 0.8599506583445775, 'R2': -0.016485360107176605, 'Runtime (s)': 4.0692925453186035}\n"
     ]
    }
   ],
   "execution_count": 14
  },
  {
   "metadata": {
    "ExecuteTime": {
     "end_time": "2025-06-26T14:22:33.134882Z",
     "start_time": "2025-06-26T14:21:47.445140Z"
    }
   },
   "cell_type": "code",
   "source": [
    "model = MySVR(epsilon=10)\n",
    "model.fit(X_train, y_train)\n",
    "\n",
    "evaluate_model_and_print(model, \"SVR\", X_train, y_train, X_test, y_test)"
   ],
   "id": "c2af6946b34d1cf9",
   "outputs": [
    {
     "name": "stdout",
     "output_type": "stream",
     "text": [
      "========== SVR ==========\n",
      "Training model\n",
      "{'MSE': 5.629742323103131, 'MAE': 2.071946937378876, 'R2': -3.21142585468018, 'Runtime (s)': 0.0}\n",
      "Testing model\n",
      "{'MSE': 5.53344670252374, 'MAE': 2.0550030959302323, 'R2': -3.2226868057267666, 'Runtime (s)': 0.0}\n"
     ]
    }
   ],
   "execution_count": 15
  },
  {
   "metadata": {
    "ExecuteTime": {
     "end_time": "2025-06-27T08:37:32.549203Z",
     "start_time": "2025-06-27T08:37:28.525083Z"
    }
   },
   "cell_type": "code",
   "source": [
    "model = KMeans()\n",
    "model.fit(X_train)\n",
    "\n",
    "train_clusters = model.predict(X_train)\n",
    "\n",
    "cluster_to_value = defaultdict(float)\n",
    "\n",
    "for i in range(model.n_clusters):\n",
    "    mask = (train_clusters == i)\n",
    "    if np.sum(mask) > 0:\n",
    "        cluster_to_value[i] = np.mean(y_train[mask])\n",
    "    else:\n",
    "        cluster_to_value[i] = 0.0\n",
    "\n",
    "test_clusters = model.predict(X_test)\n",
    "y_pred = np.array([cluster_to_value[int(cid)] for cid in test_clusters])\n",
    "\n",
    "print(\"MSE:\", mean_squared_error(y_test, y_pred))\n",
    "print(\"MAE:\", mean_absolute_error(y_test, y_pred))\n",
    "print(\"R2 Score:\", r2_score(y_test, y_pred))\n"
   ],
   "id": "e38a2b4142fda60",
   "outputs": [
    {
     "name": "stdout",
     "output_type": "stream",
     "text": [
      "MSE: 1.3096688328691797\n",
      "MAE: 0.9058109094933492\n",
      "R2 Score: 0.0005648201317374202\n"
     ]
    }
   ],
   "execution_count": 5
  },
  {
   "metadata": {
    "ExecuteTime": {
     "end_time": "2025-06-27T08:36:12.751656Z",
     "start_time": "2025-06-27T08:36:09.245076Z"
    }
   },
   "cell_type": "code",
   "source": [
    "model = MyKMeansRegressor()\n",
    "model.fit(X_train, y_train)\n",
    "evaluate_model_and_print(model, \"KMeansRegressor\", X_train, y_train, X_test, y_test)"
   ],
   "id": "fd241aeba0eb4170",
   "outputs": [
    {
     "name": "stdout",
     "output_type": "stream",
     "text": [
      "========== KMeansRegressor ==========\n",
      "Training model\n",
      "{'MSE': 1.3354063010230042, 'MAE': 0.913632710677265, 'R2': 0.0010262815135104741, 'Runtime (s)': 0.0963737964630127}\n",
      "Testing model\n",
      "{'MSE': 1.3088979591432353, 'MAE': 0.9051875076703768, 'R2': 0.0011530897015776809, 'Runtime (s)': 0.031683921813964844}\n"
     ]
    }
   ],
   "execution_count": 3
  },
  {
   "metadata": {
    "ExecuteTime": {
     "end_time": "2025-06-27T08:37:28.497795Z",
     "start_time": "2025-06-27T08:36:12.798555Z"
    }
   },
   "cell_type": "code",
   "source": [
    "model = MyKMeansRegressor(n_clusters=10000)\n",
    "model.fit(X_train, y_train)\n",
    "evaluate_model_and_print(model, \"KMeansRegressor\", X_train, y_train, X_test, y_test)"
   ],
   "id": "41b2a9b762181d9d",
   "outputs": [
    {
     "name": "stdout",
     "output_type": "stream",
     "text": [
      "========== KMeansRegressor ==========\n",
      "Training model\n",
      "{'MSE': 0.34757931447298873, 'MAE': 0.3616574884759136, 'R2': 0.7399872982611566, 'Runtime (s)': 7.152482986450195}\n",
      "Testing model\n",
      "{'MSE': 1.4891791019269018, 'MAE': 0.9227886116071428, 'R2': -0.13642315235506408, 'Runtime (s)': 1.8607151508331299}\n"
     ]
    }
   ],
   "execution_count": 4
  }
 ],
 "metadata": {
  "kernelspec": {
   "display_name": "Python 3",
   "language": "python",
   "name": "python3"
  },
  "language_info": {
   "codemirror_mode": {
    "name": "ipython",
    "version": 2
   },
   "file_extension": ".py",
   "mimetype": "text/x-python",
   "name": "python",
   "nbconvert_exporter": "python",
   "pygments_lexer": "ipython2",
   "version": "2.7.6"
  }
 },
 "nbformat": 4,
 "nbformat_minor": 5
}
