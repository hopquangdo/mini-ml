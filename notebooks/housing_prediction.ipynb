{
 "cells": [
  {
   "cell_type": "code",
   "id": "initial_id",
   "metadata": {
    "collapsed": true,
    "ExecuteTime": {
     "end_time": "2025-06-25T03:31:12.864832Z",
     "start_time": "2025-06-25T03:31:11.427190Z"
    }
   },
   "source": [
    "from sklearn.datasets import fetch_california_housing\n",
    "from sklearn.model_selection import train_test_split\n",
    "\n",
    "from sklearn.linear_model import LinearRegression\n",
    "from sklearn.neighbors import KNeighborsRegressor\n",
    "from sklearn.tree import DecisionTreeRegressor\n",
    "from sklearn.svm import SVR\n",
    "\n",
    "from models.linear_model import LinearRegression as MyLinearRegression\n",
    "from models.tree import DecisionTreeRegressor as MyDecisionTreeRegressor\n",
    "from models.neighbors import KNeighborsRegressor as MyKNeighborsRegressor\n",
    "from models.svm import SVR as MySVR\n",
    "from models.cluster import KMeansRegressor as MyKMeansRegressor\n",
    "\n",
    "from models.evaluate import evaluate_model_and_print"
   ],
   "outputs": [],
   "execution_count": 1
  },
  {
   "metadata": {
    "ExecuteTime": {
     "end_time": "2025-06-25T03:31:13.163595Z",
     "start_time": "2025-06-25T03:31:13.143071Z"
    }
   },
   "cell_type": "code",
   "source": [
    "data = fetch_california_housing()\n",
    "X = data.data\n",
    "y = data.target\n",
    "X_train, X_test, y_train, y_test = train_test_split(X, y, test_size=0.2, random_state=42)"
   ],
   "id": "1aad47ff51ae0bef",
   "outputs": [],
   "execution_count": 2
  },
  {
   "metadata": {
    "ExecuteTime": {
     "end_time": "2025-06-24T14:18:35.598930Z",
     "start_time": "2025-06-24T14:18:35.582932Z"
    }
   },
   "cell_type": "code",
   "source": [
    "model = LinearRegression()\n",
    "model.fit(X_train, y_train)\n",
    "\n",
    "evaluate_model_and_print(model, \"LinearRegression\", X_train, X_test, y_train, y_test)"
   ],
   "id": "c97d4f0507b4c679",
   "outputs": [
    {
     "name": "stdout",
     "output_type": "stream",
     "text": [
      "LinearRegression\n",
      "Training model\n",
      "{'MSE': 0.5179331255246697, 'MAE': 0.5286283596582387, 'R2': 0.6125511913966952}\n",
      "Testing model\n",
      "{'MSE': 0.5558915986952425, 'MAE': 0.5332001304956989, 'R2': 0.5757877060324521}\n"
     ]
    }
   ],
   "execution_count": 22
  },
  {
   "metadata": {
    "ExecuteTime": {
     "end_time": "2025-06-24T14:20:51.048644Z",
     "start_time": "2025-06-24T14:20:51.037148Z"
    }
   },
   "cell_type": "code",
   "source": [
    "model = MyLinearRegression()\n",
    "model.fit(X_train, y_train)\n",
    "\n",
    "evaluate_model_and_print(model, \"LinearRegression\", X_train, X_test, y_train, y_test)"
   ],
   "id": "b1ef06e1df30f194",
   "outputs": [
    {
     "name": "stdout",
     "output_type": "stream",
     "text": [
      "MyLinearRegression\n",
      "Training model\n",
      "{'MSE': 0.5179331255246699, 'MAE': 0.5286283595868713, 'R2': 0.6125511913966952}\n",
      "Testing model\n",
      "{'MSE': 0.5558915986635711, 'MAE': 0.5332001304516896, 'R2': 0.5757877060566213}\n"
     ]
    }
   ],
   "execution_count": 26
  },
  {
   "metadata": {
    "ExecuteTime": {
     "end_time": "2025-06-24T14:20:52.407418Z",
     "start_time": "2025-06-24T14:20:52.263179Z"
    }
   },
   "cell_type": "code",
   "source": [
    "model = KNeighborsRegressor(n_neighbors=3)\n",
    "model.fit(X_train, y_train)\n",
    "\n",
    "evaluate_model_and_print(model, \"KNeighborsRegressor\", X_train, X_test, y_train, y_test)"
   ],
   "id": "58229d5f18ffa208",
   "outputs": [
    {
     "name": "stdout",
     "output_type": "stream",
     "text": [
      "KNeighborsRegressor\n",
      "Training model\n",
      "{'MSE': 0.5565297600425818, 'MAE': 0.5661103900193799, 'R2': 0.5836783131753738}\n",
      "Testing model\n",
      "{'MSE': 1.1694144088518572, 'MAE': 0.8304867425710595, 'R2': 0.10759585116572867}\n"
     ]
    }
   ],
   "execution_count": 27
  },
  {
   "metadata": {
    "ExecuteTime": {
     "end_time": "2025-06-24T14:21:23.097671Z",
     "start_time": "2025-06-24T14:20:54.112155Z"
    }
   },
   "cell_type": "code",
   "source": [
    "model = MyKNeighborsRegressor(k=3)\n",
    "model.fit(X_train, y_train)\n",
    "\n",
    "evaluate_model_and_print(model, \"KNeighborsRegressor\", X_train, X_test, y_train, y_test)"
   ],
   "id": "8a2f87f98bb9a11b",
   "outputs": [
    {
     "name": "stdout",
     "output_type": "stream",
     "text": [
      "KNeighborsRegressor\n",
      "Training model\n",
      "{'MSE': 0.5565297600425818, 'MAE': 0.5661103900193799, 'R2': 0.5836783131753738}\n",
      "Testing model\n",
      "{'MSE': 1.1694144088518572, 'MAE': 0.8304867425710595, 'R2': 0.10759585116572867}\n"
     ]
    }
   ],
   "execution_count": 28
  },
  {
   "metadata": {
    "ExecuteTime": {
     "end_time": "2025-06-24T15:37:30.384093Z",
     "start_time": "2025-06-24T15:37:01.565697Z"
    }
   },
   "cell_type": "code",
   "source": [
    "model = MyKNeighborsRegressor(k=3, distance_metric=\"manhattan\")\n",
    "model.fit(X_train, y_train)\n",
    "\n",
    "evaluate_model_and_print(model, \"KNeighborsRegressor\", X_train, X_test, y_train, y_test)"
   ],
   "id": "2913d7406cea613f",
   "outputs": [
    {
     "name": "stdout",
     "output_type": "stream",
     "text": [
      "KNeighborsRegressor\n",
      "Training model\n",
      "{'MSE': 0.5110898704215525, 'MAE': 0.5371306974725452, 'R2': 0.6176704064188767}\n",
      "Testing model\n",
      "{'MSE': 1.0538158181481643, 'MAE': 0.7806350775193798, 'R2': 0.19581150950078763}\n"
     ]
    }
   ],
   "execution_count": 7
  },
  {
   "metadata": {
    "ExecuteTime": {
     "end_time": "2025-06-24T14:20:33.919441Z",
     "start_time": "2025-06-24T14:20:33.815631Z"
    }
   },
   "cell_type": "code",
   "source": [
    "model = DecisionTreeRegressor(max_depth=5)\n",
    "model.fit(X_train, y_train)\n",
    "\n",
    "evaluate_model_and_print(model, \"DecisionTreeRegressor\", X_train, X_test, y_train, y_test)"
   ],
   "id": "bb72239a40d75bc2",
   "outputs": [
    {
     "name": "stdout",
     "output_type": "stream",
     "text": [
      "DecisionTreeRegressor\n",
      "Training model\n",
      "{'MSE': 0.4895502961125623, 'MAE': 0.5110430383171272, 'R2': 0.6337834565262368}\n",
      "Testing model\n",
      "{'MSE': 0.4946191629196633, 'MAE': 0.5095857670178499, 'R2': 0.6225459599768288}\n"
     ]
    }
   ],
   "execution_count": 25
  },
  {
   "metadata": {
    "ExecuteTime": {
     "end_time": "2025-06-24T15:22:05.109540Z",
     "start_time": "2025-06-24T15:21:19.111851Z"
    }
   },
   "cell_type": "code",
   "source": [
    "model = MyDecisionTreeRegressor(max_depth=5)\n",
    "model.fit(X_train, y_train)\n",
    "\n",
    "evaluate_model_and_print(model, \"DecisionTreeRegressor\", X_train, X_test, y_train, y_test)"
   ],
   "id": "6a1949fddb6a3a62",
   "outputs": [
    {
     "name": "stdout",
     "output_type": "stream",
     "text": [
      "DecisionTreeRegressor\n",
      "Training model\n",
      "{'MSE': 0.4843432765009063, 'MAE': 0.5063471123358744, 'R2': 0.6376786573648903}\n",
      "Testing model\n",
      "{'MSE': 0.5245146178314738, 'MAE': 0.5222592972077785, 'R2': 0.5997321244428704}\n"
     ]
    }
   ],
   "execution_count": 8
  },
  {
   "metadata": {
    "ExecuteTime": {
     "end_time": "2025-06-24T15:21:10.770563Z",
     "start_time": "2025-06-24T15:20:25.797095Z"
    }
   },
   "cell_type": "code",
   "source": [
    "model = MyDecisionTreeRegressor(max_depth=5, use_all_thresholds=True)\n",
    "model.fit(X_train, y_train)\n",
    "\n",
    "evaluate_model_and_print(model, \"DecisionTreeRegressor\", X_train, X_test, y_train, y_test)"
   ],
   "id": "12ca76420606c7ad",
   "outputs": [
    {
     "name": "stdout",
     "output_type": "stream",
     "text": [
      "DecisionTreeRegressor\n",
      "Training model\n",
      "{'MSE': 0.4843432765009063, 'MAE': 0.5063471123358744, 'R2': 0.6376786573648903}\n",
      "Testing model\n",
      "{'MSE': 0.5245146178314738, 'MAE': 0.5222592972077785, 'R2': 0.5997321244428704}\n"
     ]
    }
   ],
   "execution_count": 7
  },
  {
   "metadata": {
    "ExecuteTime": {
     "end_time": "2025-06-24T17:17:06.880016Z",
     "start_time": "2025-06-24T17:16:36.910390Z"
    }
   },
   "cell_type": "code",
   "source": [
    "model = SVR()\n",
    "model.fit(X_train, y_train)\n",
    "\n",
    "evaluate_model_and_print(model, \"SVR\", X_train, X_test, y_train, y_test)"
   ],
   "id": "93b5471f6922cc8",
   "outputs": [
    {
     "name": "stdout",
     "output_type": "stream",
     "text": [
      "SVR\n",
      "Training model\n",
      "{'MSE': 1.3685019409034658, 'MAE': 0.8715010413485207, 'R2': -0.023731482780208424}\n",
      "Testing model\n",
      "{'MSE': 1.3320115421348784, 'MAE': 0.8599506583445775, 'R2': -0.016485360107176605}\n"
     ]
    }
   ],
   "execution_count": 11
  },
  {
   "metadata": {
    "ExecuteTime": {
     "end_time": "2025-06-24T17:29:36.903131Z",
     "start_time": "2025-06-24T17:28:36.260208Z"
    }
   },
   "cell_type": "code",
   "source": [
    "model = MySVR(epsilon=10)\n",
    "model.fit(X_train, y_train)\n",
    "\n",
    "evaluate_model_and_print(model, \"SVR\", X_train, X_test, y_train, y_test)"
   ],
   "id": "c2af6946b34d1cf9",
   "outputs": [
    {
     "name": "stdout",
     "output_type": "stream",
     "text": [
      "SVR\n",
      "Training model\n",
      "{'MSE': 5.629742323103131, 'MAE': 2.071946937378876, 'R2': -3.21142585468018}\n",
      "Testing model\n",
      "{'MSE': 5.53344670252374, 'MAE': 2.0550030959302323, 'R2': -3.2226868057267666}\n"
     ]
    }
   ],
   "execution_count": 7
  },
  {
   "metadata": {
    "ExecuteTime": {
     "end_time": "2025-06-25T03:31:14.378255Z",
     "start_time": "2025-06-25T03:31:13.705685Z"
    }
   },
   "cell_type": "code",
   "source": [
    "model = MyKMeansRegressor()\n",
    "model.fit(X_train, y_train)\n",
    "\n",
    "evaluate_model_and_print(model, \"KMeansRegressor\", X_train, X_test, y_train, y_test)"
   ],
   "id": "fd241aeba0eb4170",
   "outputs": [
    {
     "ename": "TypeError",
     "evalue": "'NoneType' object is not subscriptable",
     "output_type": "error",
     "traceback": [
      "\u001B[31m---------------------------------------------------------------------------\u001B[39m",
      "\u001B[31mTypeError\u001B[39m                                 Traceback (most recent call last)",
      "\u001B[36mCell\u001B[39m\u001B[36m \u001B[39m\u001B[32mIn[3]\u001B[39m\u001B[32m, line 2\u001B[39m\n\u001B[32m      1\u001B[39m model = MyKMeansRegressor()\n\u001B[32m----> \u001B[39m\u001B[32m2\u001B[39m \u001B[43mmodel\u001B[49m\u001B[43m.\u001B[49m\u001B[43mfit\u001B[49m\u001B[43m(\u001B[49m\u001B[43mX_train\u001B[49m\u001B[43m,\u001B[49m\u001B[43m \u001B[49m\u001B[43my_train\u001B[49m\u001B[43m)\u001B[49m\n\u001B[32m      4\u001B[39m evaluate_model_and_print(model, \u001B[33m\"\u001B[39m\u001B[33mKMeansRegressor\u001B[39m\u001B[33m\"\u001B[39m, X_train, X_test, y_train, y_test)\n",
      "\u001B[36mFile \u001B[39m\u001B[32mF:\\NCKH\\Machine Learning\\minisklearn\\models\\cluster\\regressor.py:13\u001B[39m, in \u001B[36mKMeansRegressor.fit\u001B[39m\u001B[34m(self, X, y)\u001B[39m\n\u001B[32m     11\u001B[39m \u001B[38;5;28;01mdef\u001B[39;00m\u001B[38;5;250m \u001B[39m\u001B[34mfit\u001B[39m(\u001B[38;5;28mself\u001B[39m, X, y):\n\u001B[32m     12\u001B[39m     \u001B[38;5;28msuper\u001B[39m().fit(X)\n\u001B[32m---> \u001B[39m\u001B[32m13\u001B[39m     labels = \u001B[38;5;28;43mself\u001B[39;49m\u001B[43m.\u001B[49m\u001B[43mpredict\u001B[49m\u001B[43m(\u001B[49m\u001B[43mX\u001B[49m\u001B[43m)\u001B[49m\n\u001B[32m     15\u001B[39m     \u001B[38;5;28mself\u001B[39m.value_map = {}\n\u001B[32m     16\u001B[39m     \u001B[38;5;28;01mfor\u001B[39;00m cluster_id \u001B[38;5;129;01min\u001B[39;00m \u001B[38;5;28mrange\u001B[39m(\u001B[38;5;28mself\u001B[39m.n_clusters):\n",
      "\u001B[36mFile \u001B[39m\u001B[32mF:\\NCKH\\Machine Learning\\minisklearn\\models\\cluster\\regressor.py:25\u001B[39m, in \u001B[36mKMeansRegressor.predict\u001B[39m\u001B[34m(self, X)\u001B[39m\n\u001B[32m     23\u001B[39m \u001B[38;5;28;01mdef\u001B[39;00m\u001B[38;5;250m \u001B[39m\u001B[34mpredict\u001B[39m(\u001B[38;5;28mself\u001B[39m, X):\n\u001B[32m     24\u001B[39m     cluster_ids = \u001B[38;5;28msuper\u001B[39m().predict(X)\n\u001B[32m---> \u001B[39m\u001B[32m25\u001B[39m     \u001B[38;5;28;01mreturn\u001B[39;00m np.array(\u001B[43m[\u001B[49m\u001B[38;5;28;43mself\u001B[39;49m\u001B[43m.\u001B[49m\u001B[43mvalue_map\u001B[49m\u001B[43m[\u001B[49m\u001B[43mcid\u001B[49m\u001B[43m]\u001B[49m\u001B[43m \u001B[49m\u001B[38;5;28;43;01mfor\u001B[39;49;00m\u001B[43m \u001B[49m\u001B[43mcid\u001B[49m\u001B[43m \u001B[49m\u001B[38;5;129;43;01min\u001B[39;49;00m\u001B[43m \u001B[49m\u001B[43mcluster_ids\u001B[49m\u001B[43m]\u001B[49m)\n",
      "\u001B[36mFile \u001B[39m\u001B[32mF:\\NCKH\\Machine Learning\\minisklearn\\models\\cluster\\regressor.py:25\u001B[39m, in \u001B[36m<listcomp>\u001B[39m\u001B[34m(.0)\u001B[39m\n\u001B[32m     23\u001B[39m \u001B[38;5;28;01mdef\u001B[39;00m\u001B[38;5;250m \u001B[39m\u001B[34mpredict\u001B[39m(\u001B[38;5;28mself\u001B[39m, X):\n\u001B[32m     24\u001B[39m     cluster_ids = \u001B[38;5;28msuper\u001B[39m().predict(X)\n\u001B[32m---> \u001B[39m\u001B[32m25\u001B[39m     \u001B[38;5;28;01mreturn\u001B[39;00m np.array([\u001B[38;5;28;43mself\u001B[39;49m\u001B[43m.\u001B[49m\u001B[43mvalue_map\u001B[49m\u001B[43m[\u001B[49m\u001B[43mcid\u001B[49m\u001B[43m]\u001B[49m \u001B[38;5;28;01mfor\u001B[39;00m cid \u001B[38;5;129;01min\u001B[39;00m cluster_ids])\n",
      "\u001B[31mTypeError\u001B[39m: 'NoneType' object is not subscriptable"
     ]
    }
   ],
   "execution_count": 3
  }
 ],
 "metadata": {
  "kernelspec": {
   "display_name": "Python 3",
   "language": "python",
   "name": "python3"
  },
  "language_info": {
   "codemirror_mode": {
    "name": "ipython",
    "version": 2
   },
   "file_extension": ".py",
   "mimetype": "text/x-python",
   "name": "python",
   "nbconvert_exporter": "python",
   "pygments_lexer": "ipython2",
   "version": "2.7.6"
  }
 },
 "nbformat": 4,
 "nbformat_minor": 5
}
