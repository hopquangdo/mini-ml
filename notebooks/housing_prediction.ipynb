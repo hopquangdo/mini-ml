{
 "cells": [
  {
   "cell_type": "code",
   "id": "initial_id",
   "metadata": {
    "collapsed": true,
    "ExecuteTime": {
     "end_time": "2025-06-25T16:18:31.248175Z",
     "start_time": "2025-06-25T16:18:29.733803Z"
    }
   },
   "source": [
    "from sklearn.datasets import fetch_california_housing\n",
    "from sklearn.model_selection import train_test_split\n",
    "from sklearn.metrics import mean_squared_error, mean_absolute_error, r2_score\n",
    "\n",
    "from sklearn.linear_model import LinearRegression\n",
    "from sklearn.neighbors import KNeighborsRegressor\n",
    "from sklearn.tree import DecisionTreeRegressor\n",
    "from sklearn.svm import SVR\n",
    "from sklearn.cluster import KMeans\n",
    "\n",
    "from collections import defaultdict\n",
    "\n",
    "import numpy as np\n",
    "\n",
    "from models.linear_model import LinearRegression as MyLinearRegression\n",
    "from models.tree import DecisionTreeRegressor as MyDecisionTreeRegressor\n",
    "from models.neighbors import KNeighborsRegressor as MyKNeighborsRegressor\n",
    "from models.svm import SVR as MySVR\n",
    "from models.cluster import KMeansRegressor as MyKMeansRegressor\n",
    "\n",
    "from models.evaluate import evaluate_model_and_print"
   ],
   "outputs": [],
   "execution_count": 1
  },
  {
   "metadata": {
    "ExecuteTime": {
     "end_time": "2025-06-25T16:37:54.076919Z",
     "start_time": "2025-06-25T16:37:54.038350Z"
    }
   },
   "cell_type": "code",
   "source": [
    "data = fetch_california_housing()\n",
    "X = data.data\n",
    "y = data.target\n",
    "X_train, X_test, y_train, y_test = train_test_split(X, y, test_size=0.2, random_state=42)"
   ],
   "id": "1aad47ff51ae0bef",
   "outputs": [],
   "execution_count": 7
  },
  {
   "metadata": {
    "ExecuteTime": {
     "end_time": "2025-06-25T16:37:59.053840Z",
     "start_time": "2025-06-25T16:37:59.014474Z"
    }
   },
   "cell_type": "code",
   "source": [
    "model = LinearRegression()\n",
    "model.fit(X_train, y_train)\n",
    "\n",
    "evaluate_model_and_print(model, \"LinearRegression\", X_train, y_train, X_test, y_test)"
   ],
   "id": "c97d4f0507b4c679",
   "outputs": [
    {
     "name": "stdout",
     "output_type": "stream",
     "text": [
      "========== LinearRegression ==========\n",
      "Training model\n",
      "{'MSE': 0.5179331255246697, 'MAE': 0.5286283596582387, 'R2': 0.6125511913966952}\n",
      "Testing model\n",
      "{'MSE': 0.5558915986952425, 'MAE': 0.5332001304956989, 'R2': 0.5757877060324521}\n"
     ]
    }
   ],
   "execution_count": 8
  },
  {
   "metadata": {
    "ExecuteTime": {
     "end_time": "2025-06-25T16:07:24.890756Z",
     "start_time": "2025-06-25T16:07:24.865212Z"
    }
   },
   "cell_type": "code",
   "source": [
    "model = MyLinearRegression()\n",
    "model.fit(X_train, y_train)\n",
    "\n",
    "evaluate_model_and_print(model, \"LinearRegression\", X_train, y_train, X_test, y_test)"
   ],
   "id": "b1ef06e1df30f194",
   "outputs": [
    {
     "name": "stdout",
     "output_type": "stream",
     "text": [
      "========== LinearRegression ==========\n",
      "Training model\n",
      "{'MSE': 0.5179331255246699, 'MAE': 0.5286283595868713, 'R2': 0.6125511913966952}\n",
      "Testing model\n",
      "{'MSE': 0.5558915986635711, 'MAE': 0.5332001304516896, 'R2': 0.5757877060566213}\n"
     ]
    }
   ],
   "execution_count": 17
  },
  {
   "metadata": {
    "ExecuteTime": {
     "end_time": "2025-06-25T16:38:34.728857Z",
     "start_time": "2025-06-25T16:38:34.622768Z"
    }
   },
   "cell_type": "code",
   "source": [
    "model = KNeighborsRegressor(n_neighbors=3)\n",
    "model.fit(X_train, y_train)\n",
    "\n",
    "evaluate_model_and_print(model, \"KNeighborsRegressor\", X_train, y_train, X_test, y_test)"
   ],
   "id": "58229d5f18ffa208",
   "outputs": [
    {
     "name": "stdout",
     "output_type": "stream",
     "text": [
      "========== KNeighborsRegressor ==========\n",
      "Training model\n",
      "{'MSE': 0.5565297600425818, 'MAE': 0.5661103900193799, 'R2': 0.5836783131753738}\n",
      "Testing model\n",
      "{'MSE': 1.1694144088518572, 'MAE': 0.8304867425710595, 'R2': 0.10759585116572867}\n"
     ]
    }
   ],
   "execution_count": 9
  },
  {
   "metadata": {
    "ExecuteTime": {
     "end_time": "2025-06-25T16:39:20.115160Z",
     "start_time": "2025-06-25T16:38:45.366503Z"
    }
   },
   "cell_type": "code",
   "source": [
    "model = MyKNeighborsRegressor(k=3)\n",
    "model.fit(X_train, y_train)\n",
    "\n",
    "evaluate_model_and_print(model, \"KNeighborsRegressor\", X_train, y_train, X_test, y_test)"
   ],
   "id": "8a2f87f98bb9a11b",
   "outputs": [
    {
     "name": "stdout",
     "output_type": "stream",
     "text": [
      "========== KNeighborsRegressor ==========\n",
      "Training model\n",
      "{'MSE': 0.5565297600425818, 'MAE': 0.5661103900193799, 'R2': 0.5836783131753738}\n",
      "Testing model\n",
      "{'MSE': 1.1694144088518572, 'MAE': 0.8304867425710595, 'R2': 0.10759585116572867}\n"
     ]
    }
   ],
   "execution_count": 10
  },
  {
   "metadata": {
    "ExecuteTime": {
     "end_time": "2025-06-25T16:09:26.504641Z",
     "start_time": "2025-06-25T16:08:56.727554Z"
    }
   },
   "cell_type": "code",
   "source": [
    "model = MyKNeighborsRegressor(k=3, distance_metric=\"manhattan\")\n",
    "model.fit(X_train, y_train)\n",
    "\n",
    "evaluate_model_and_print(model, \"KNeighborsRegressor\", X_train, y_train, X_test, y_test)"
   ],
   "id": "2913d7406cea613f",
   "outputs": [
    {
     "name": "stdout",
     "output_type": "stream",
     "text": [
      "========== KNeighborsRegressor ==========\n",
      "Training model\n",
      "{'MSE': 0.5110898704215525, 'MAE': 0.5371306974725452, 'R2': 0.6176704064188767}\n",
      "Testing model\n",
      "{'MSE': 1.0538158181481643, 'MAE': 0.7806350775193798, 'R2': 0.19581150950078763}\n"
     ]
    }
   ],
   "execution_count": 22
  },
  {
   "metadata": {
    "ExecuteTime": {
     "end_time": "2025-06-25T16:09:26.619023Z",
     "start_time": "2025-06-25T16:09:26.523333Z"
    }
   },
   "cell_type": "code",
   "source": [
    "model = DecisionTreeRegressor(max_depth=5)\n",
    "model.fit(X_train, y_train)\n",
    "\n",
    "evaluate_model_and_print(model, \"DecisionTreeRegressor\", X_train, y_train, X_test, y_test)"
   ],
   "id": "bb72239a40d75bc2",
   "outputs": [
    {
     "name": "stdout",
     "output_type": "stream",
     "text": [
      "========== DecisionTreeRegressor ==========\n",
      "Training model\n",
      "{'MSE': 0.48434327650090636, 'MAE': 0.5063471123358746, 'R2': 0.6376786573648903}\n",
      "Testing model\n",
      "{'MSE': 0.5245146178314737, 'MAE': 0.5222592972077786, 'R2': 0.5997321244428705}\n"
     ]
    }
   ],
   "execution_count": 23
  },
  {
   "metadata": {
    "ExecuteTime": {
     "end_time": "2025-06-25T16:19:22.820299Z",
     "start_time": "2025-06-25T16:18:31.484427Z"
    }
   },
   "cell_type": "code",
   "source": [
    "model = MyDecisionTreeRegressor(max_depth=5)\n",
    "model.fit(X_train, y_train)\n",
    "\n",
    "evaluate_model_and_print(model, \"DecisionTreeRegressor\", X_train, y_train, X_test, y_test)"
   ],
   "id": "6a1949fddb6a3a62",
   "outputs": [
    {
     "name": "stdout",
     "output_type": "stream",
     "text": [
      "========== DecisionTreeRegressor ==========\n",
      "Training model\n",
      "{'MSE': 0.4843432765009063, 'MAE': 0.5063471123358744, 'R2': 0.6376786573648903}\n",
      "Testing model\n",
      "{'MSE': 0.5245146178314738, 'MAE': 0.5222592972077785, 'R2': 0.5997321244428704}\n"
     ]
    }
   ],
   "execution_count": 3
  },
  {
   "metadata": {},
   "cell_type": "code",
   "source": [
    "model = MyDecisionTreeRegressor(max_depth=5, use_all_thresholds=True)\n",
    "model.fit(X_train, y_train)\n",
    "\n",
    "evaluate_model_and_print(model, \"DecisionTreeRegressor\", X_train, y_train, X_test, y_test)"
   ],
   "id": "12ca76420606c7ad",
   "outputs": [],
   "execution_count": null
  },
  {
   "metadata": {},
   "cell_type": "code",
   "source": [
    "model = SVR()\n",
    "model.fit(X_train, y_train)\n",
    "\n",
    "evaluate_model_and_print(model, \"SVR\", X_train, y_train, X_test, y_test)"
   ],
   "id": "93b5471f6922cc8",
   "outputs": [],
   "execution_count": null
  },
  {
   "metadata": {},
   "cell_type": "code",
   "source": [
    "model = MySVR(epsilon=10)\n",
    "model.fit(X_train, y_train)\n",
    "\n",
    "evaluate_model_and_print(model, \"SVR\", X_train, y_train, X_test, y_test)"
   ],
   "id": "c2af6946b34d1cf9",
   "outputs": [],
   "execution_count": null
  },
  {
   "metadata": {
    "ExecuteTime": {
     "end_time": "2025-06-25T16:06:33.788519Z",
     "start_time": "2025-06-25T16:06:33.750973Z"
    }
   },
   "cell_type": "code",
   "source": [
    "model = KMeans()\n",
    "model.fit(X_train)\n",
    "\n",
    "train_clusters = model.predict(X_train)\n",
    "\n",
    "cluster_to_value = defaultdict(float)\n",
    "\n",
    "for i in range(model.n_clusters):\n",
    "    mask = (train_clusters == i)\n",
    "    if np.sum(mask) > 0:\n",
    "        cluster_to_value[i] = np.mean(y_train[mask])\n",
    "    else:\n",
    "        cluster_to_value[i] = 0.0\n",
    "\n",
    "test_clusters = model.predict(X_test)\n",
    "y_pred = np.array([cluster_to_value[int(cid)] for cid in test_clusters])\n",
    "\n",
    "print(\"MSE:\", mean_squared_error(y_test, y_pred))\n",
    "print(\"MAE:\", mean_absolute_error(y_test, y_pred))\n",
    "print(\"R2 Score:\", r2_score(y_test, y_pred))\n"
   ],
   "id": "e38a2b4142fda60",
   "outputs": [
    {
     "name": "stdout",
     "output_type": "stream",
     "text": [
      "MSE: 1.3086358484899328\n",
      "MAE: 0.9055818030913011\n",
      "R2 Score: 0.0013531117234462098\n"
     ]
    }
   ],
   "execution_count": 13
  },
  {
   "metadata": {
    "ExecuteTime": {
     "end_time": "2025-06-25T16:02:07.021814Z",
     "start_time": "2025-06-25T16:02:03.632205Z"
    }
   },
   "cell_type": "code",
   "source": [
    "model = MyKMeansRegressor()\n",
    "model.fit(X_train, y_train)\n",
    "evaluate_model_and_print(model, \"KMeansRegressor\", X_train, y_train, X_test, y_test)"
   ],
   "id": "fd241aeba0eb4170",
   "outputs": [
    {
     "name": "stdout",
     "output_type": "stream",
     "text": [
      "========== KMeansRegressor ==========\n",
      "Training model\n",
      "{'MSE': 1.3354063010230042, 'MAE': 0.913632710677265, 'R2': 0.0010262815135104741}\n",
      "Testing model\n",
      "{'MSE': 1.3088979591432353, 'MAE': 0.9051875076703768, 'R2': 0.0011530897015776809}\n"
     ]
    }
   ],
   "execution_count": 7
  },
  {
   "metadata": {
    "ExecuteTime": {
     "end_time": "2025-06-25T16:26:37.203439Z",
     "start_time": "2025-06-25T16:25:01.769838Z"
    }
   },
   "cell_type": "code",
   "source": [
    "model = MyKMeansRegressor(n_clusters=10000)\n",
    "model.fit(X_train, y_train)\n",
    "evaluate_model_and_print(model, \"KMeansRegressor\", X_train, y_train, X_test, y_test)"
   ],
   "id": "41b2a9b762181d9d",
   "outputs": [
    {
     "name": "stdout",
     "output_type": "stream",
     "text": [
      "========== KMeansRegressor ==========\n",
      "Training model\n",
      "{'MSE': 0.34757931447298873, 'MAE': 0.3616574884759136, 'R2': 0.7399872982611566}\n",
      "Testing model\n",
      "{'MSE': 1.4891791019269018, 'MAE': 0.9227886116071428, 'R2': -0.13642315235506408}\n"
     ]
    }
   ],
   "execution_count": 6
  }
 ],
 "metadata": {
  "kernelspec": {
   "display_name": "Python 3",
   "language": "python",
   "name": "python3"
  },
  "language_info": {
   "codemirror_mode": {
    "name": "ipython",
    "version": 2
   },
   "file_extension": ".py",
   "mimetype": "text/x-python",
   "name": "python",
   "nbconvert_exporter": "python",
   "pygments_lexer": "ipython2",
   "version": "2.7.6"
  }
 },
 "nbformat": 4,
 "nbformat_minor": 5
}
