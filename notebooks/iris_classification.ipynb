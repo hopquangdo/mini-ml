{
 "cells": [
  {
   "metadata": {
    "ExecuteTime": {
     "end_time": "2025-06-24T18:34:21.353955Z",
     "start_time": "2025-06-24T18:34:19.912122Z"
    }
   },
   "cell_type": "code",
   "source": [
    "from sklearn.datasets import load_iris\n",
    "from sklearn.model_selection import train_test_split\n",
    "\n",
    "from sklearn.linear_model import LogisticRegression\n",
    "from sklearn.tree import DecisionTreeClassifier\n",
    "from sklearn.neighbors import KNeighborsClassifier\n",
    "from sklearn.svm import SVC\n",
    "\n",
    "from models.multiclass import OneVsRestClassifier\n",
    "from models.linear_model import LogisticRegression as MyLogisticRegression\n",
    "from models.tree import DecisionTreeClassifier as MyDecisionTreeClassifier\n",
    "from models.svm import SVC as MySVC\n",
    "from models.neighbors import KNeighborsClassifier as MyKNeighborsClassifier\n",
    "from models.cluster import KMeansClassifier as MyKMeansClassifier\n",
    "\n",
    "from models.evaluate import evaluate_model_and_print"
   ],
   "id": "8d43095aadfcb1b2",
   "outputs": [],
   "execution_count": 1
  },
  {
   "metadata": {
    "ExecuteTime": {
     "end_time": "2025-06-24T18:34:21.759040Z",
     "start_time": "2025-06-24T18:34:21.749441Z"
    }
   },
   "cell_type": "code",
   "source": [
    "data = load_iris()\n",
    "X = data.data\n",
    "y = data.target\n",
    "X_train, X_test, y_train, y_test = train_test_split(X, y, test_size=0.2, random_state=42)"
   ],
   "id": "4b2e912248915ad3",
   "outputs": [],
   "execution_count": 2
  },
  {
   "metadata": {},
   "cell_type": "code",
   "source": [
    "model = LogisticRegression(multi_class=\"ovr\")\n",
    "model.fit(X_train, y_train)\n",
    "\n",
    "evaluate_model_and_print(model, \"Logistic Regression\", X_train, y_train, X_test, y_test, is_classification_task=True)"
   ],
   "id": "e6a5fab7bf457a3f",
   "outputs": [],
   "execution_count": null
  },
  {
   "metadata": {
    "ExecuteTime": {
     "end_time": "2025-06-24T18:23:42.566141Z",
     "start_time": "2025-06-24T18:23:42.502378Z"
    }
   },
   "cell_type": "code",
   "source": [
    "ovr_model = OneVsRestClassifier(MyLogisticRegression)\n",
    "ovr_model.fit(X_train, y_train)\n",
    "\n",
    "evaluate_model_and_print(ovr_model, \"Logistic Regression\", X_train, y_train, X_test, y_test,\n",
    "                         is_classification_task=True)"
   ],
   "id": "1ca84c37f157ad7a",
   "outputs": [
    {
     "name": "stdout",
     "output_type": "stream",
     "text": [
      "========== Logistic Regression ==========\n",
      "Training model\n",
      "{'Accuracy': 0.9083333333333333, 'Precision': 0.9266666666666667, 'Recall': 0.9105691056910569, 'F1': 0.907158305639078}\n",
      "Testing model\n",
      "{'Accuracy': 0.8666666666666667, 'Precision': 0.9111111111111111, 'Recall': 0.8518518518518517, 'F1': 0.8534798534798536}\n"
     ]
    }
   ],
   "execution_count": 3
  },
  {
   "metadata": {
    "ExecuteTime": {
     "end_time": "2025-06-24T18:25:36.834845Z",
     "start_time": "2025-06-24T18:25:36.816802Z"
    }
   },
   "cell_type": "code",
   "source": [
    "model = SVC()\n",
    "model.fit(X_train, y_train)\n",
    "\n",
    "evaluate_model_and_print(model, \"Support Vector Classifier\", X_train, y_train, X_test, y_test,\n",
    "                         is_classification_task=True)"
   ],
   "id": "a7b893d2e1717b23",
   "outputs": [
    {
     "name": "stdout",
     "output_type": "stream",
     "text": [
      "========== Support Vector Classifier ==========\n",
      "Training model\n",
      "{'Accuracy': 0.975, 'Precision': 0.975, 'Recall': 0.9751928288513655, 'F1': 0.9749960931395529}\n",
      "Testing model\n",
      "{'Accuracy': 1.0, 'Precision': 1.0, 'Recall': 1.0, 'F1': 1.0}\n"
     ]
    }
   ],
   "execution_count": 3
  },
  {
   "metadata": {
    "ExecuteTime": {
     "end_time": "2025-06-24T18:25:40.562068Z",
     "start_time": "2025-06-24T18:25:38.489425Z"
    }
   },
   "cell_type": "code",
   "source": [
    "ovr_model = OneVsRestClassifier(MySVC)\n",
    "ovr_model.fit(X_train, y_train)\n",
    "\n",
    "evaluate_model_and_print(ovr_model, \"Support Vector Classifier\", X_train, y_train, X_test, y_test,\n",
    "                         is_classification_task=True)"
   ],
   "id": "cc938709d8a19467",
   "outputs": [
    {
     "name": "stdout",
     "output_type": "stream",
     "text": [
      "========== Support Vector Classifier ==========\n",
      "Training model\n",
      "{'Accuracy': 0.6583333333333333, 'Precision': 0.4696296296296296, 'Recall': 0.6666666666666666, 'F1': 0.541795665634675}\n",
      "Testing model\n",
      "{'Accuracy': 0.7, 'Precision': 0.5166666666666667, 'Recall': 0.6666666666666666, 'F1': 0.5698924731182796}\n"
     ]
    }
   ],
   "execution_count": 4
  },
  {
   "metadata": {},
   "cell_type": "code",
   "source": [
    "model = DecisionTreeClassifier()\n",
    "model.fit(X_train, y_train)\n",
    "\n",
    "evaluate_model_and_print(model, \"Decision Treee\", X_train, y_train, X_test, y_test, is_classification_task=True)"
   ],
   "id": "98e49f8f6c70a56e",
   "outputs": [],
   "execution_count": null
  },
  {
   "metadata": {},
   "cell_type": "code",
   "source": [
    "model = MyDecisionTreeClassifier(max_depth=6)\n",
    "model.fit(X_train, y_train)\n",
    "\n",
    "evaluate_model_and_print(model, \"Decision Treee\", X_train, y_train, X_test, y_test, is_classification_task=True)"
   ],
   "id": "46213ae8f44e836",
   "outputs": [],
   "execution_count": null
  },
  {
   "metadata": {
    "ExecuteTime": {
     "end_time": "2025-06-24T18:26:16.329920Z",
     "start_time": "2025-06-24T18:26:16.300786Z"
    }
   },
   "cell_type": "code",
   "source": [
    "model = KNeighborsClassifier()\n",
    "model.fit(X_train, y_train)\n",
    "\n",
    "evaluate_model_and_print(model, \"KNN\", X_train, y_train, X_test, y_test, is_classification_task=True)"
   ],
   "id": "ef2212c0c8b1a9d3",
   "outputs": [
    {
     "name": "stdout",
     "output_type": "stream",
     "text": [
      "========== KNN ==========\n",
      "Training model\n",
      "{'Accuracy': 0.9666666666666667, 'Precision': 0.9670627475505524, 'Recall': 0.9670627475505524, 'F1': 0.9666666666666667}\n",
      "Testing model\n",
      "{'Accuracy': 1.0, 'Precision': 1.0, 'Recall': 1.0, 'F1': 1.0}\n"
     ]
    }
   ],
   "execution_count": 5
  },
  {
   "metadata": {
    "ExecuteTime": {
     "end_time": "2025-06-24T18:26:17.870034Z",
     "start_time": "2025-06-24T18:26:17.831607Z"
    }
   },
   "cell_type": "code",
   "source": [
    "model = MyKNeighborsClassifier()\n",
    "model.fit(X_train, y_train)\n",
    "\n",
    "evaluate_model_and_print(model, \"KNN\", X_train, y_train, X_test, y_test, is_classification_task=True)"
   ],
   "id": "db812b8972e500b4",
   "outputs": [
    {
     "name": "stdout",
     "output_type": "stream",
     "text": [
      "========== KNN ==========\n",
      "Training model\n",
      "{'Accuracy': 0.95, 'Precision': 0.9499687304565354, 'Recall': 0.9499687304565354, 'F1': 0.9499687304565354}\n",
      "Testing model\n",
      "{'Accuracy': 1.0, 'Precision': 1.0, 'Recall': 1.0, 'F1': 1.0}\n"
     ]
    }
   ],
   "execution_count": 6
  },
  {
   "metadata": {
    "ExecuteTime": {
     "end_time": "2025-06-24T18:34:24.208555Z",
     "start_time": "2025-06-24T18:34:24.186727Z"
    }
   },
   "cell_type": "code",
   "source": [
    "model = MyKMeansClassifier()\n",
    "model.fit(X_train, y_train)\n",
    "\n",
    "evaluate_model_and_print(model, \"KMeans\", X_train, y_train, X_test, y_test, is_classification_task=True)"
   ],
   "id": "c0e9297a58f5c801",
   "outputs": [
    {
     "name": "stdout",
     "output_type": "stream",
     "text": [
      "========== KMeans ==========\n",
      "Training model\n",
      "{'Accuracy': 0.8666666666666667, 'Precision': 0.8805499211178724, 'Recall': 0.8644986449864498, 'F1': 0.8635976129582268}\n",
      "Testing model\n",
      "{'Accuracy': 0.9666666666666667, 'Precision': 0.9666666666666667, 'Recall': 0.9696969696969697, 'F1': 0.9665831244778612}\n"
     ]
    }
   ],
   "execution_count": 3
  }
 ],
 "metadata": {
  "kernelspec": {
   "display_name": "Python 3",
   "language": "python",
   "name": "python3"
  },
  "language_info": {
   "codemirror_mode": {
    "name": "ipython",
    "version": 2
   },
   "file_extension": ".py",
   "mimetype": "text/x-python",
   "name": "python",
   "nbconvert_exporter": "python",
   "pygments_lexer": "ipython2",
   "version": "2.7.6"
  }
 },
 "nbformat": 4,
 "nbformat_minor": 5
}
