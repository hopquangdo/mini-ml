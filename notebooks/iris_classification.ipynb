{
 "cells": [
  {
   "metadata": {
    "ExecuteTime": {
     "end_time": "2025-06-25T03:28:34.502102Z",
     "start_time": "2025-06-25T03:28:34.497072Z"
    }
   },
   "cell_type": "code",
   "source": [
    "from sklearn.datasets import load_iris\n",
    "from sklearn.model_selection import train_test_split\n",
    "\n",
    "from sklearn.linear_model import LogisticRegression\n",
    "from sklearn.tree import DecisionTreeClassifier\n",
    "from sklearn.neighbors import KNeighborsClassifier\n",
    "from sklearn.svm import SVC\n",
    "from sklearn.cluster import KMeans\n",
    "from scipy.stats import mode\n",
    "from sklearn.metrics import accuracy_score, precision_score, recall_score, f1_score\n",
    "\n",
    "import numpy as np\n",
    "\n",
    "from models.multiclass import OneVsRestClassifier\n",
    "from models.linear_model import LogisticRegression as MyLogisticRegression\n",
    "from models.tree import DecisionTreeClassifier as MyDecisionTreeClassifier\n",
    "from models.svm import SVC as MySVC\n",
    "from models.neighbors import KNeighborsClassifier as MyKNeighborsClassifier\n",
    "from models.cluster import KMeansClassifier as MyKMeansClassifier\n",
    "\n",
    "from models.evaluate import evaluate_model_and_print"
   ],
   "id": "8d43095aadfcb1b2",
   "outputs": [],
   "execution_count": 16
  },
  {
   "metadata": {
    "ExecuteTime": {
     "end_time": "2025-06-25T03:25:27.173794Z",
     "start_time": "2025-06-25T03:25:27.140563Z"
    }
   },
   "cell_type": "code",
   "source": [
    "data = load_iris()\n",
    "X = data.data\n",
    "y = data.target\n",
    "X_train, X_test, y_train, y_test = train_test_split(X, y, test_size=0.2, random_state=42, stratify=y)"
   ],
   "id": "4b2e912248915ad3",
   "outputs": [],
   "execution_count": 7
  },
  {
   "metadata": {
    "ExecuteTime": {
     "end_time": "2025-06-25T02:41:52.572226Z",
     "start_time": "2025-06-25T02:41:52.522522Z"
    }
   },
   "cell_type": "code",
   "source": [
    "model = LogisticRegression(multi_class=\"ovr\")\n",
    "model.fit(X_train, y_train)\n",
    "\n",
    "evaluate_model_and_print(model, \"Logistic Regression\", X_train, y_train, X_test, y_test, is_classification_task=True)"
   ],
   "id": "e6a5fab7bf457a3f",
   "outputs": [
    {
     "name": "stdout",
     "output_type": "stream",
     "text": [
      "========== Logistic Regression ==========\n",
      "Training model\n",
      "{'Accuracy': 0.95, 'Precision': 0.9507101086048454, 'Recall': 0.9499999999999998, 'F1': 0.9499687304565354}\n",
      "Testing model\n",
      "{'Accuracy': 0.9333333333333333, 'Precision': 0.9444444444444445, 'Recall': 0.9333333333333332, 'F1': 0.9326599326599326}\n"
     ]
    },
    {
     "name": "stderr",
     "output_type": "stream",
     "text": [
      "F:\\app\\python\\Lib\\site-packages\\sklearn\\linear_model\\_logistic.py:1273: FutureWarning: 'multi_class' was deprecated in version 1.5 and will be removed in 1.7. Use OneVsRestClassifier(LogisticRegression(..)) instead. Leave it to its default value to avoid this warning.\n",
      "  warnings.warn(\n"
     ]
    }
   ],
   "execution_count": 3
  },
  {
   "metadata": {
    "ExecuteTime": {
     "end_time": "2025-06-24T18:23:42.566141Z",
     "start_time": "2025-06-24T18:23:42.502378Z"
    }
   },
   "cell_type": "code",
   "source": [
    "ovr_model = OneVsRestClassifier(MyLogisticRegression)\n",
    "ovr_model.fit(X_train, y_train)\n",
    "\n",
    "evaluate_model_and_print(ovr_model, \"Logistic Regression\", X_train, y_train, X_test, y_test,\n",
    "                         is_classification_task=True)"
   ],
   "id": "1ca84c37f157ad7a",
   "outputs": [
    {
     "name": "stdout",
     "output_type": "stream",
     "text": [
      "========== Logistic Regression ==========\n",
      "Training model\n",
      "{'Accuracy': 0.9083333333333333, 'Precision': 0.9266666666666667, 'Recall': 0.9105691056910569, 'F1': 0.907158305639078}\n",
      "Testing model\n",
      "{'Accuracy': 0.8666666666666667, 'Precision': 0.9111111111111111, 'Recall': 0.8518518518518517, 'F1': 0.8534798534798536}\n"
     ]
    }
   ],
   "execution_count": 3
  },
  {
   "metadata": {
    "ExecuteTime": {
     "end_time": "2025-06-24T18:25:36.834845Z",
     "start_time": "2025-06-24T18:25:36.816802Z"
    }
   },
   "cell_type": "code",
   "source": [
    "model = SVC()\n",
    "model.fit(X_train, y_train)\n",
    "\n",
    "evaluate_model_and_print(model, \"Support Vector Classifier\", X_train, y_train, X_test, y_test,\n",
    "                         is_classification_task=True)"
   ],
   "id": "a7b893d2e1717b23",
   "outputs": [
    {
     "name": "stdout",
     "output_type": "stream",
     "text": [
      "========== Support Vector Classifier ==========\n",
      "Training model\n",
      "{'Accuracy': 0.975, 'Precision': 0.975, 'Recall': 0.9751928288513655, 'F1': 0.9749960931395529}\n",
      "Testing model\n",
      "{'Accuracy': 1.0, 'Precision': 1.0, 'Recall': 1.0, 'F1': 1.0}\n"
     ]
    }
   ],
   "execution_count": 3
  },
  {
   "metadata": {
    "ExecuteTime": {
     "end_time": "2025-06-24T18:25:40.562068Z",
     "start_time": "2025-06-24T18:25:38.489425Z"
    }
   },
   "cell_type": "code",
   "source": [
    "ovr_model = OneVsRestClassifier(MySVC)\n",
    "ovr_model.fit(X_train, y_train)\n",
    "\n",
    "evaluate_model_and_print(ovr_model, \"Support Vector Classifier\", X_train, y_train, X_test, y_test,\n",
    "                         is_classification_task=True)"
   ],
   "id": "cc938709d8a19467",
   "outputs": [
    {
     "name": "stdout",
     "output_type": "stream",
     "text": [
      "========== Support Vector Classifier ==========\n",
      "Training model\n",
      "{'Accuracy': 0.6583333333333333, 'Precision': 0.4696296296296296, 'Recall': 0.6666666666666666, 'F1': 0.541795665634675}\n",
      "Testing model\n",
      "{'Accuracy': 0.7, 'Precision': 0.5166666666666667, 'Recall': 0.6666666666666666, 'F1': 0.5698924731182796}\n"
     ]
    }
   ],
   "execution_count": 4
  },
  {
   "metadata": {
    "ExecuteTime": {
     "end_time": "2025-06-25T02:41:52.662314Z",
     "start_time": "2025-06-25T02:41:52.646085Z"
    }
   },
   "cell_type": "code",
   "source": [
    "model = DecisionTreeClassifier()\n",
    "model.fit(X_train, y_train)\n",
    "\n",
    "evaluate_model_and_print(model, \"Decision Treee\", X_train, y_train, X_test, y_test, is_classification_task=True)"
   ],
   "id": "98e49f8f6c70a56e",
   "outputs": [
    {
     "name": "stdout",
     "output_type": "stream",
     "text": [
      "========== Decision Treee ==========\n",
      "Training model\n",
      "{'Accuracy': 1.0, 'Precision': 1.0, 'Recall': 1.0, 'F1': 1.0}\n",
      "Testing model\n",
      "{'Accuracy': 0.9666666666666667, 'Precision': 0.9696969696969697, 'Recall': 0.9666666666666667, 'F1': 0.9665831244778612}\n"
     ]
    }
   ],
   "execution_count": 4
  },
  {
   "metadata": {
    "ExecuteTime": {
     "end_time": "2025-06-25T02:41:52.705748Z",
     "start_time": "2025-06-25T02:41:52.671681Z"
    }
   },
   "cell_type": "code",
   "source": [
    "model = MyDecisionTreeClassifier(max_depth=6)\n",
    "model.fit(X_train, y_train)\n",
    "\n",
    "evaluate_model_and_print(model, \"Decision Treee\", X_train, y_train, X_test, y_test, is_classification_task=True)"
   ],
   "id": "46213ae8f44e836",
   "outputs": [
    {
     "name": "stdout",
     "output_type": "stream",
     "text": [
      "========== Decision Treee ==========\n",
      "Training model\n",
      "{'Accuracy': 1.0, 'Precision': 1.0, 'Recall': 1.0, 'F1': 1.0}\n",
      "Testing model\n",
      "{'Accuracy': 0.9333333333333333, 'Precision': 0.9333333333333332, 'Recall': 0.9333333333333332, 'F1': 0.9333333333333332}\n"
     ]
    }
   ],
   "execution_count": 5
  },
  {
   "metadata": {
    "ExecuteTime": {
     "end_time": "2025-06-24T18:26:16.329920Z",
     "start_time": "2025-06-24T18:26:16.300786Z"
    }
   },
   "cell_type": "code",
   "source": [
    "model = KNeighborsClassifier()\n",
    "model.fit(X_train, y_train)\n",
    "\n",
    "evaluate_model_and_print(model, \"KNN\", X_train, y_train, X_test, y_test, is_classification_task=True)"
   ],
   "id": "ef2212c0c8b1a9d3",
   "outputs": [
    {
     "name": "stdout",
     "output_type": "stream",
     "text": [
      "========== KNN ==========\n",
      "Training model\n",
      "{'Accuracy': 0.9666666666666667, 'Precision': 0.9670627475505524, 'Recall': 0.9670627475505524, 'F1': 0.9666666666666667}\n",
      "Testing model\n",
      "{'Accuracy': 1.0, 'Precision': 1.0, 'Recall': 1.0, 'F1': 1.0}\n"
     ]
    }
   ],
   "execution_count": 5
  },
  {
   "metadata": {
    "ExecuteTime": {
     "end_time": "2025-06-24T18:26:17.870034Z",
     "start_time": "2025-06-24T18:26:17.831607Z"
    }
   },
   "cell_type": "code",
   "source": [
    "model = MyKNeighborsClassifier()\n",
    "model.fit(X_train, y_train)\n",
    "\n",
    "evaluate_model_and_print(model, \"KNN\", X_train, y_train, X_test, y_test, is_classification_task=True)"
   ],
   "id": "db812b8972e500b4",
   "outputs": [
    {
     "name": "stdout",
     "output_type": "stream",
     "text": [
      "========== KNN ==========\n",
      "Training model\n",
      "{'Accuracy': 0.95, 'Precision': 0.9499687304565354, 'Recall': 0.9499687304565354, 'F1': 0.9499687304565354}\n",
      "Testing model\n",
      "{'Accuracy': 1.0, 'Precision': 1.0, 'Recall': 1.0, 'F1': 1.0}\n"
     ]
    }
   ],
   "execution_count": 6
  },
  {
   "metadata": {
    "ExecuteTime": {
     "end_time": "2025-06-25T03:28:38.283370Z",
     "start_time": "2025-06-25T03:28:38.257738Z"
    }
   },
   "cell_type": "code",
   "source": [
    "kmeans = KMeans(n_clusters=3, random_state=42)\n",
    "kmeans.fit(X_train)\n",
    "\n",
    "train_clusters = kmeans.predict(X_train)\n",
    "\n",
    "train_labels = np.zeros_like(train_clusters)\n",
    "for i in range(3):\n",
    "    mask = (train_clusters == i)\n",
    "    train_labels[mask] = mode(y_train[mask], keepdims=True).mode[0]\n",
    "\n",
    "print(\"=== Train Evaluation ===\")\n",
    "print(\"Accuracy:\", accuracy_score(y_train, train_labels))\n",
    "print(\"Precision:\", precision_score(y_train, train_labels, average='macro'))\n",
    "print(\"Recall:\", recall_score(y_train, train_labels, average='macro'))\n",
    "print(\"F1 Score:\", f1_score(y_train, train_labels, average='macro'))\n",
    "\n",
    "test_clusters = kmeans.predict(X_test)\n",
    "\n",
    "cluster_to_label = {}\n",
    "for i in range(3):\n",
    "    mask = (train_clusters == i)\n",
    "    cluster_to_label[i] = mode(y_train[mask], keepdims=True).mode[0]\n",
    "\n",
    "test_labels = np.array([cluster_to_label[cluster] for cluster in test_clusters])\n",
    "\n",
    "print(\"\\n=== Test Evaluation ===\")\n",
    "print(\"Accuracy:\", accuracy_score(y_test, test_labels))\n",
    "print(\"Precision:\", precision_score(y_test, test_labels, average='macro'))\n",
    "print(\"Recall:\", recall_score(y_test, test_labels, average='macro'))\n",
    "print(\"F1 Score:\", f1_score(y_test, test_labels, average='macro'))"
   ],
   "id": "35d9e0938e7ad2ab",
   "outputs": [
    {
     "name": "stdout",
     "output_type": "stream",
     "text": [
      "=== Train Evaluation ===\n",
      "Accuracy: 0.8916666666666667\n",
      "Precision: 0.9100743745774172\n",
      "Recall: 0.8916666666666666\n",
      "F1 Score: 0.8895790200138026\n",
      "\n",
      "=== Test Evaluation ===\n",
      "Accuracy: 0.9\n",
      "Precision: 0.9023569023569024\n",
      "Recall: 0.9\n",
      "F1 Score: 0.899749373433584\n"
     ]
    }
   ],
   "execution_count": 17
  },
  {
   "metadata": {
    "ExecuteTime": {
     "end_time": "2025-06-24T18:34:24.208555Z",
     "start_time": "2025-06-24T18:34:24.186727Z"
    }
   },
   "cell_type": "code",
   "source": [
    "model = MyKMeansClassifier()\n",
    "model.fit(X_train, y_train)\n",
    "\n",
    "evaluate_model_and_print(model, \"KMeans\", X_train, y_train, X_test, y_test, is_classification_task=True)"
   ],
   "id": "c0e9297a58f5c801",
   "outputs": [
    {
     "name": "stdout",
     "output_type": "stream",
     "text": [
      "========== KMeans ==========\n",
      "Training model\n",
      "{'Accuracy': 0.8666666666666667, 'Precision': 0.8805499211178724, 'Recall': 0.8644986449864498, 'F1': 0.8635976129582268}\n",
      "Testing model\n",
      "{'Accuracy': 0.9666666666666667, 'Precision': 0.9666666666666667, 'Recall': 0.9696969696969697, 'F1': 0.9665831244778612}\n"
     ]
    }
   ],
   "execution_count": 3
  },
  {
   "metadata": {},
   "cell_type": "code",
   "outputs": [],
   "execution_count": null,
   "source": "",
   "id": "f6ebdbebed38d6c6"
  }
 ],
 "metadata": {
  "kernelspec": {
   "display_name": "Python 3",
   "language": "python",
   "name": "python3"
  },
  "language_info": {
   "codemirror_mode": {
    "name": "ipython",
    "version": 2
   },
   "file_extension": ".py",
   "mimetype": "text/x-python",
   "name": "python",
   "nbconvert_exporter": "python",
   "pygments_lexer": "ipython2",
   "version": "2.7.6"
  }
 },
 "nbformat": 4,
 "nbformat_minor": 5
}
